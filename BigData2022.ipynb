{
 "cells": [
  {
   "cell_type": "markdown",
   "id": "c2cd4283",
   "metadata": {},
   "source": [
    "# Метаинформация"
   ]
  },
  {
   "cell_type": "markdown",
   "id": "12d54681",
   "metadata": {},
   "source": [
    "Система хранения: Samsung MZVLB512HBJQ-000L2\n",
    "\n",
    "Процессор: Intel(R) Core(TM) i5-9300H CPU @ 2.40GHz"
   ]
  },
  {
   "cell_type": "code",
   "execution_count": 1,
   "id": "2b5ffa85",
   "metadata": {},
   "outputs": [
    {
     "data": {
      "text/plain": [
       "'1.2.4'"
      ]
     },
     "execution_count": 1,
     "metadata": {},
     "output_type": "execute_result"
    }
   ],
   "source": [
    "import pandas as pd\n",
    "pd.__version__"
   ]
  },
  {
   "cell_type": "code",
   "execution_count": 2,
   "id": "80d89223",
   "metadata": {},
   "outputs": [],
   "source": [
    "import time"
   ]
  },
  {
   "cell_type": "code",
   "execution_count": 3,
   "id": "21b8854f",
   "metadata": {},
   "outputs": [
    {
     "name": "stdout",
     "output_type": "stream",
     "text": [
      "Время:  2.85  минут.\n"
     ]
    }
   ],
   "source": [
    "start = time.time()\n",
    "df = pd.read_csv('steam_reviews.csv')\n",
    "print('Время: ', round((time.time() - start)/60, 2), \" минут.\")"
   ]
  },
  {
   "cell_type": "code",
   "execution_count": 10,
   "id": "66e70728",
   "metadata": {},
   "outputs": [
    {
     "data": {
      "text/html": [
       "<div>\n",
       "<style scoped>\n",
       "    .dataframe tbody tr th:only-of-type {\n",
       "        vertical-align: middle;\n",
       "    }\n",
       "\n",
       "    .dataframe tbody tr th {\n",
       "        vertical-align: top;\n",
       "    }\n",
       "\n",
       "    .dataframe thead th {\n",
       "        text-align: right;\n",
       "    }\n",
       "</style>\n",
       "<table border=\"1\" class=\"dataframe\">\n",
       "  <thead>\n",
       "    <tr style=\"text-align: right;\">\n",
       "      <th></th>\n",
       "      <th>Unnamed: 0</th>\n",
       "      <th>app_id</th>\n",
       "      <th>app_name</th>\n",
       "      <th>review_id</th>\n",
       "      <th>language</th>\n",
       "      <th>review</th>\n",
       "      <th>timestamp_created</th>\n",
       "      <th>timestamp_updated</th>\n",
       "      <th>recommended</th>\n",
       "      <th>votes_helpful</th>\n",
       "      <th>...</th>\n",
       "      <th>steam_purchase</th>\n",
       "      <th>received_for_free</th>\n",
       "      <th>written_during_early_access</th>\n",
       "      <th>author.steamid</th>\n",
       "      <th>author.num_games_owned</th>\n",
       "      <th>author.num_reviews</th>\n",
       "      <th>author.playtime_forever</th>\n",
       "      <th>author.playtime_last_two_weeks</th>\n",
       "      <th>author.playtime_at_review</th>\n",
       "      <th>author.last_played</th>\n",
       "    </tr>\n",
       "  </thead>\n",
       "  <tbody>\n",
       "    <tr>\n",
       "      <th>0</th>\n",
       "      <td>0</td>\n",
       "      <td>292030</td>\n",
       "      <td>The Witcher 3: Wild Hunt</td>\n",
       "      <td>85185598</td>\n",
       "      <td>schinese</td>\n",
       "      <td>不玩此生遗憾，RPG游戏里的天花板，太吸引人了</td>\n",
       "      <td>1611381629</td>\n",
       "      <td>1611381629</td>\n",
       "      <td>True</td>\n",
       "      <td>0</td>\n",
       "      <td>...</td>\n",
       "      <td>True</td>\n",
       "      <td>False</td>\n",
       "      <td>False</td>\n",
       "      <td>76561199095369542</td>\n",
       "      <td>6</td>\n",
       "      <td>2</td>\n",
       "      <td>1909.0</td>\n",
       "      <td>1448.0</td>\n",
       "      <td>1909.0</td>\n",
       "      <td>1.611343e+09</td>\n",
       "    </tr>\n",
       "    <tr>\n",
       "      <th>1</th>\n",
       "      <td>1</td>\n",
       "      <td>292030</td>\n",
       "      <td>The Witcher 3: Wild Hunt</td>\n",
       "      <td>85185250</td>\n",
       "      <td>schinese</td>\n",
       "      <td>拔DIAO无情打桩机--杰洛特!!!</td>\n",
       "      <td>1611381030</td>\n",
       "      <td>1611381030</td>\n",
       "      <td>True</td>\n",
       "      <td>0</td>\n",
       "      <td>...</td>\n",
       "      <td>True</td>\n",
       "      <td>False</td>\n",
       "      <td>False</td>\n",
       "      <td>76561198949504115</td>\n",
       "      <td>30</td>\n",
       "      <td>10</td>\n",
       "      <td>2764.0</td>\n",
       "      <td>2743.0</td>\n",
       "      <td>2674.0</td>\n",
       "      <td>1.611386e+09</td>\n",
       "    </tr>\n",
       "    <tr>\n",
       "      <th>2</th>\n",
       "      <td>2</td>\n",
       "      <td>292030</td>\n",
       "      <td>The Witcher 3: Wild Hunt</td>\n",
       "      <td>85185111</td>\n",
       "      <td>schinese</td>\n",
       "      <td>巫师3NB</td>\n",
       "      <td>1611380800</td>\n",
       "      <td>1611380800</td>\n",
       "      <td>True</td>\n",
       "      <td>0</td>\n",
       "      <td>...</td>\n",
       "      <td>True</td>\n",
       "      <td>False</td>\n",
       "      <td>False</td>\n",
       "      <td>76561199090098988</td>\n",
       "      <td>5</td>\n",
       "      <td>1</td>\n",
       "      <td>1061.0</td>\n",
       "      <td>1061.0</td>\n",
       "      <td>1060.0</td>\n",
       "      <td>1.611384e+09</td>\n",
       "    </tr>\n",
       "    <tr>\n",
       "      <th>3</th>\n",
       "      <td>3</td>\n",
       "      <td>292030</td>\n",
       "      <td>The Witcher 3: Wild Hunt</td>\n",
       "      <td>85184605</td>\n",
       "      <td>english</td>\n",
       "      <td>One of the best RPG's of all time, worthy of a...</td>\n",
       "      <td>1611379970</td>\n",
       "      <td>1611379970</td>\n",
       "      <td>True</td>\n",
       "      <td>0</td>\n",
       "      <td>...</td>\n",
       "      <td>True</td>\n",
       "      <td>False</td>\n",
       "      <td>False</td>\n",
       "      <td>76561199054755373</td>\n",
       "      <td>5</td>\n",
       "      <td>3</td>\n",
       "      <td>5587.0</td>\n",
       "      <td>3200.0</td>\n",
       "      <td>5524.0</td>\n",
       "      <td>1.611384e+09</td>\n",
       "    </tr>\n",
       "    <tr>\n",
       "      <th>4</th>\n",
       "      <td>4</td>\n",
       "      <td>292030</td>\n",
       "      <td>The Witcher 3: Wild Hunt</td>\n",
       "      <td>85184287</td>\n",
       "      <td>schinese</td>\n",
       "      <td>大作</td>\n",
       "      <td>1611379427</td>\n",
       "      <td>1611379427</td>\n",
       "      <td>True</td>\n",
       "      <td>0</td>\n",
       "      <td>...</td>\n",
       "      <td>True</td>\n",
       "      <td>False</td>\n",
       "      <td>False</td>\n",
       "      <td>76561199028326951</td>\n",
       "      <td>7</td>\n",
       "      <td>4</td>\n",
       "      <td>217.0</td>\n",
       "      <td>42.0</td>\n",
       "      <td>217.0</td>\n",
       "      <td>1.610788e+09</td>\n",
       "    </tr>\n",
       "  </tbody>\n",
       "</table>\n",
       "<p>5 rows × 23 columns</p>\n",
       "</div>"
      ],
      "text/plain": [
       "   Unnamed: 0  app_id                  app_name  review_id  language  \\\n",
       "0           0  292030  The Witcher 3: Wild Hunt   85185598  schinese   \n",
       "1           1  292030  The Witcher 3: Wild Hunt   85185250  schinese   \n",
       "2           2  292030  The Witcher 3: Wild Hunt   85185111  schinese   \n",
       "3           3  292030  The Witcher 3: Wild Hunt   85184605   english   \n",
       "4           4  292030  The Witcher 3: Wild Hunt   85184287  schinese   \n",
       "\n",
       "                                              review  timestamp_created  \\\n",
       "0                            不玩此生遗憾，RPG游戏里的天花板，太吸引人了         1611381629   \n",
       "1                                 拔DIAO无情打桩机--杰洛特!!!         1611381030   \n",
       "2                                              巫师3NB         1611380800   \n",
       "3  One of the best RPG's of all time, worthy of a...         1611379970   \n",
       "4                                                 大作         1611379427   \n",
       "\n",
       "   timestamp_updated  recommended  votes_helpful  ...  steam_purchase  \\\n",
       "0         1611381629         True              0  ...            True   \n",
       "1         1611381030         True              0  ...            True   \n",
       "2         1611380800         True              0  ...            True   \n",
       "3         1611379970         True              0  ...            True   \n",
       "4         1611379427         True              0  ...            True   \n",
       "\n",
       "   received_for_free  written_during_early_access     author.steamid  \\\n",
       "0              False                        False  76561199095369542   \n",
       "1              False                        False  76561198949504115   \n",
       "2              False                        False  76561199090098988   \n",
       "3              False                        False  76561199054755373   \n",
       "4              False                        False  76561199028326951   \n",
       "\n",
       "   author.num_games_owned  author.num_reviews  author.playtime_forever  \\\n",
       "0                       6                   2                   1909.0   \n",
       "1                      30                  10                   2764.0   \n",
       "2                       5                   1                   1061.0   \n",
       "3                       5                   3                   5587.0   \n",
       "4                       7                   4                    217.0   \n",
       "\n",
       "   author.playtime_last_two_weeks  author.playtime_at_review  \\\n",
       "0                          1448.0                     1909.0   \n",
       "1                          2743.0                     2674.0   \n",
       "2                          1061.0                     1060.0   \n",
       "3                          3200.0                     5524.0   \n",
       "4                            42.0                      217.0   \n",
       "\n",
       "   author.last_played  \n",
       "0        1.611343e+09  \n",
       "1        1.611386e+09  \n",
       "2        1.611384e+09  \n",
       "3        1.611384e+09  \n",
       "4        1.610788e+09  \n",
       "\n",
       "[5 rows x 23 columns]"
      ]
     },
     "execution_count": 10,
     "metadata": {},
     "output_type": "execute_result"
    }
   ],
   "source": [
    "df.head()"
   ]
  },
  {
   "cell_type": "code",
   "execution_count": 72,
   "id": "f212505e",
   "metadata": {},
   "outputs": [
    {
     "name": "stdout",
     "output_type": "stream",
     "text": [
      "<class 'pandas.core.frame.DataFrame'>\n",
      "RangeIndex: 21747371 entries, 0 to 21747370\n",
      "Data columns (total 23 columns):\n",
      " #   Column                          Dtype  \n",
      "---  ------                          -----  \n",
      " 0   Unnamed: 0                      int64  \n",
      " 1   app_id                          int64  \n",
      " 2   app_name                        object \n",
      " 3   review_id                       int64  \n",
      " 4   language                        object \n",
      " 5   review                          object \n",
      " 6   timestamp_created               int64  \n",
      " 7   timestamp_updated               int64  \n",
      " 8   recommended                     bool   \n",
      " 9   votes_helpful                   int64  \n",
      " 10  votes_funny                     int64  \n",
      " 11  weighted_vote_score             float64\n",
      " 12  comment_count                   int64  \n",
      " 13  steam_purchase                  bool   \n",
      " 14  received_for_free               bool   \n",
      " 15  written_during_early_access     bool   \n",
      " 16  author.steamid                  int64  \n",
      " 17  author.num_games_owned          int64  \n",
      " 18  author.num_reviews              int64  \n",
      " 19  author.playtime_forever         float64\n",
      " 20  author.playtime_last_two_weeks  float64\n",
      " 21  author.playtime_at_review       float64\n",
      " 22  author.last_played              float64\n",
      "dtypes: bool(4), float64(5), int64(11), object(3)\n",
      "memory usage: 11.4 GB\n"
     ]
    }
   ],
   "source": [
    "df.info(memory_usage = 'deep')"
   ]
  },
  {
   "cell_type": "code",
   "execution_count": 4,
   "id": "81af3270",
   "metadata": {},
   "outputs": [
    {
     "data": {
      "text/plain": [
       "english       9635437\n",
       "schinese      3764967\n",
       "russian       2348900\n",
       "brazilian      837524\n",
       "spanish        813320\n",
       "german         752596\n",
       "turkish        635868\n",
       "koreana        613632\n",
       "french         541751\n",
       "polish         495529\n",
       "tchinese       218203\n",
       "czech          133980\n",
       "italian        133307\n",
       "thai           127503\n",
       "japanese        81754\n",
       "portuguese      81386\n",
       "swedish         80226\n",
       "dutch           77555\n",
       "hungarian       71001\n",
       "latam           70103\n",
       "danish          55915\n",
       "finnish         54712\n",
       "norwegian       36797\n",
       "romanian        32730\n",
       "ukrainian       21169\n",
       "greek           14472\n",
       "bulgarian       10454\n",
       "vietnamese       6580\n",
       "Name: language, dtype: int64"
      ]
     },
     "execution_count": 4,
     "metadata": {},
     "output_type": "execute_result"
    }
   ],
   "source": [
    "df['language'].value_counts()"
   ]
  },
  {
   "cell_type": "markdown",
   "id": "c5602d13",
   "metadata": {},
   "source": [
    "# Настройка данных"
   ]
  },
  {
   "cell_type": "markdown",
   "id": "c42b7d81",
   "metadata": {},
   "source": [
    "**Выберем отзывы на английском языке:**"
   ]
  },
  {
   "cell_type": "code",
   "execution_count": 6,
   "id": "e58ef4e2",
   "metadata": {},
   "outputs": [],
   "source": [
    "eng_reviews = df[df[\"language\"] == 'english']"
   ]
  },
  {
   "cell_type": "code",
   "execution_count": 23,
   "id": "a6661b7c",
   "metadata": {},
   "outputs": [
    {
     "name": "stdout",
     "output_type": "stream",
     "text": [
      "<class 'pandas.core.frame.DataFrame'>\n",
      "Int64Index: 9635437 entries, 3 to 21747369\n",
      "Data columns (total 23 columns):\n",
      " #   Column                          Dtype  \n",
      "---  ------                          -----  \n",
      " 0   Unnamed: 0                      int64  \n",
      " 1   app_id                          int64  \n",
      " 2   app_name                        object \n",
      " 3   review_id                       int64  \n",
      " 4   language                        object \n",
      " 5   review                          object \n",
      " 6   timestamp_created               int64  \n",
      " 7   timestamp_updated               int64  \n",
      " 8   recommended                     bool   \n",
      " 9   votes_helpful                   int64  \n",
      " 10  votes_funny                     int64  \n",
      " 11  weighted_vote_score             float64\n",
      " 12  comment_count                   int64  \n",
      " 13  steam_purchase                  bool   \n",
      " 14  received_for_free               bool   \n",
      " 15  written_during_early_access     bool   \n",
      " 16  author.steamid                  int64  \n",
      " 17  author.num_games_owned          int64  \n",
      " 18  author.num_reviews              int64  \n",
      " 19  author.playtime_forever         float64\n",
      " 20  author.playtime_last_two_weeks  float64\n",
      " 21  author.playtime_at_review       float64\n",
      " 22  author.last_played              float64\n",
      "dtypes: bool(4), float64(5), int64(11), object(3)\n",
      "memory usage: 5.1 GB\n"
     ]
    }
   ],
   "source": [
    "eng_reviews.info(memory_usage = 'deep')"
   ]
  },
  {
   "cell_type": "markdown",
   "id": "59a1fddf",
   "metadata": {},
   "source": [
    "**Избавимся от ненужных для выполнения поставленной задачи аргументов:**"
   ]
  },
  {
   "cell_type": "code",
   "execution_count": 4,
   "id": "3f1e0ead",
   "metadata": {},
   "outputs": [
    {
     "name": "stdout",
     "output_type": "stream",
     "text": [
      "Время:  0.07  минут.\n"
     ]
    }
   ],
   "source": [
    "start = time.time()\n",
    "eng_reviews = df[df[\"language\"] == 'english']\n",
    "eng_reviews = eng_reviews.drop([\"Unnamed: 0\", \"app_id\", \"review_id\", \"language\", \"timestamp_created\", \"timestamp_updated\",\n",
    "                                \"comment_count\", \"steam_purchase\", \"received_for_free\", \"written_during_early_access\",\n",
    "                               \"author.steamid\", \"author.num_games_owned\", \"author.num_reviews\", \"author.playtime_forever\",\n",
    "                               \"author.playtime_last_two_weeks\", \"author.playtime_at_review\", \"author.last_played\",\n",
    "                               \"app_name\", \"votes_helpful\", \"votes_funny\", \"weighted_vote_score\"], axis = 1)\n",
    "print('Время: ', round((time.time() - start)/60, 2), \" минут.\")"
   ]
  },
  {
   "cell_type": "code",
   "execution_count": 6,
   "id": "3e8ca694",
   "metadata": {},
   "outputs": [
    {
     "name": "stdout",
     "output_type": "stream",
     "text": [
      "<class 'pandas.core.frame.DataFrame'>\n",
      "Int64Index: 9635437 entries, 3 to 21747369\n",
      "Data columns (total 2 columns):\n",
      " #   Column       Dtype \n",
      "---  ------       ----- \n",
      " 0   review       object\n",
      " 1   recommended  bool  \n",
      "dtypes: bool(1), object(1)\n",
      "memory usage: 2.7 GB\n"
     ]
    }
   ],
   "source": [
    "eng_reviews.info(memory_usage = 'deep')"
   ]
  },
  {
   "cell_type": "code",
   "execution_count": 5,
   "id": "42cd4082",
   "metadata": {},
   "outputs": [
    {
     "data": {
      "text/html": [
       "<div>\n",
       "<style scoped>\n",
       "    .dataframe tbody tr th:only-of-type {\n",
       "        vertical-align: middle;\n",
       "    }\n",
       "\n",
       "    .dataframe tbody tr th {\n",
       "        vertical-align: top;\n",
       "    }\n",
       "\n",
       "    .dataframe thead th {\n",
       "        text-align: right;\n",
       "    }\n",
       "</style>\n",
       "<table border=\"1\" class=\"dataframe\">\n",
       "  <thead>\n",
       "    <tr style=\"text-align: right;\">\n",
       "      <th></th>\n",
       "      <th>review</th>\n",
       "      <th>recommended</th>\n",
       "    </tr>\n",
       "  </thead>\n",
       "  <tbody>\n",
       "    <tr>\n",
       "      <th>3</th>\n",
       "      <td>One of the best RPG's of all time, worthy of a...</td>\n",
       "      <td>True</td>\n",
       "    </tr>\n",
       "    <tr>\n",
       "      <th>5</th>\n",
       "      <td>good story, good graphics. lots to do.</td>\n",
       "      <td>True</td>\n",
       "    </tr>\n",
       "    <tr>\n",
       "      <th>6</th>\n",
       "      <td>dis gud,</td>\n",
       "      <td>True</td>\n",
       "    </tr>\n",
       "    <tr>\n",
       "      <th>18</th>\n",
       "      <td>favorite game of all time cant wait for the Ne...</td>\n",
       "      <td>True</td>\n",
       "    </tr>\n",
       "    <tr>\n",
       "      <th>20</th>\n",
       "      <td>Why wouldn't you get this</td>\n",
       "      <td>True</td>\n",
       "    </tr>\n",
       "  </tbody>\n",
       "</table>\n",
       "</div>"
      ],
      "text/plain": [
       "                                               review  recommended\n",
       "3   One of the best RPG's of all time, worthy of a...         True\n",
       "5              good story, good graphics. lots to do.         True\n",
       "6                                            dis gud,         True\n",
       "18  favorite game of all time cant wait for the Ne...         True\n",
       "20                          Why wouldn't you get this         True"
      ]
     },
     "execution_count": 5,
     "metadata": {},
     "output_type": "execute_result"
    }
   ],
   "source": [
    "eng_reviews.head()"
   ]
  },
  {
   "cell_type": "markdown",
   "id": "ae78879c",
   "metadata": {},
   "source": [
    "## Преподготовка текста"
   ]
  },
  {
   "cell_type": "code",
   "execution_count": 6,
   "id": "175526cc",
   "metadata": {},
   "outputs": [
    {
     "data": {
      "text/plain": [
       "'2.2.1'"
      ]
     },
     "execution_count": 6,
     "metadata": {},
     "output_type": "execute_result"
    }
   ],
   "source": [
    "import re\n",
    "re.__version__"
   ]
  },
  {
   "cell_type": "code",
   "execution_count": 7,
   "id": "5f140bd5",
   "metadata": {},
   "outputs": [],
   "source": [
    "def cleanup(text):\n",
    "    text = str(text).lower()\n",
    "    text = re.sub(r\"n't\", \" not \", text)\n",
    "    text = re.sub(r\"\\'s\", \" \", text)\n",
    "    text = re.sub(r\"\\'ve\", \" have \", text)\n",
    "    text = re.sub(r\"\\'re\", \" are \", text)\n",
    "    text = re.sub(r\"\\'d\", \" would \", text)\n",
    "    text = re.sub(r\"\\'ll\", \" will \", text)\n",
    "    text = re.sub('\\W+',' ', text)\n",
    "    return text"
   ]
  },
  {
   "cell_type": "code",
   "execution_count": 8,
   "id": "42fbca98",
   "metadata": {},
   "outputs": [
    {
     "name": "stdout",
     "output_type": "stream",
     "text": [
      "Время:  3.25  минут.\n"
     ]
    }
   ],
   "source": [
    "start = time.time()\n",
    "X = eng_reviews['review'].apply(cleanup)\n",
    "print('Время: ', round((time.time() - start)/60, 2), \" минут.\")"
   ]
  },
  {
   "cell_type": "code",
   "execution_count": 9,
   "id": "5a49a5b8",
   "metadata": {},
   "outputs": [
    {
     "data": {
      "text/plain": [
       "3     one of the best rpg of all time worthy of any ...\n",
       "5                  good story good graphics lots to do \n",
       "6                                              dis gud \n",
       "18    favorite game of all time cant wait for the ne...\n",
       "20                           why would not you get this\n",
       "Name: review, dtype: object"
      ]
     },
     "execution_count": 9,
     "metadata": {},
     "output_type": "execute_result"
    }
   ],
   "source": [
    "X.head()"
   ]
  },
  {
   "cell_type": "code",
   "execution_count": 10,
   "id": "eb9608fd",
   "metadata": {},
   "outputs": [],
   "source": [
    "Y = eng_reviews['recommended']"
   ]
  },
  {
   "cell_type": "code",
   "execution_count": 11,
   "id": "5c9d9581",
   "metadata": {},
   "outputs": [
    {
     "data": {
      "text/plain": [
       "'0.24.1'"
      ]
     },
     "execution_count": 11,
     "metadata": {},
     "output_type": "execute_result"
    }
   ],
   "source": [
    "import sklearn\n",
    "sklearn.__version__"
   ]
  },
  {
   "cell_type": "code",
   "execution_count": 12,
   "id": "339fb552",
   "metadata": {},
   "outputs": [],
   "source": [
    "from sklearn.model_selection import train_test_split"
   ]
  },
  {
   "cell_type": "code",
   "execution_count": 14,
   "id": "2ebe8e7f",
   "metadata": {},
   "outputs": [
    {
     "name": "stdout",
     "output_type": "stream",
     "text": [
      "Время:  0.06  минут.\n"
     ]
    }
   ],
   "source": [
    "start = time.time()\n",
    "X_train, X_test, y_train, y_test = train_test_split(X, Y, test_size = 0.3, random_state = 42)\n",
    "print('Время: ', round((time.time() - start)/60, 2), \" минут.\")"
   ]
  },
  {
   "cell_type": "markdown",
   "id": "4ab9b35f",
   "metadata": {},
   "source": [
    "**Создание словаря:**"
   ]
  },
  {
   "cell_type": "code",
   "execution_count": 15,
   "id": "727ea4a6",
   "metadata": {},
   "outputs": [
    {
     "name": "stdout",
     "output_type": "stream",
     "text": [
      "Время:  3.11  минут.\n"
     ]
    }
   ],
   "source": [
    "from sklearn.feature_extraction.text import TfidfVectorizer\n",
    "\n",
    "start = time.time()\n",
    "vec = TfidfVectorizer()\n",
    "vec.fit(X_train)\n",
    "print('Время: ', round((time.time() - start)/60, 2), \" минут.\")"
   ]
  },
  {
   "cell_type": "markdown",
   "id": "db0095b1",
   "metadata": {},
   "source": [
    "**Векторизация текстовых данных:**"
   ]
  },
  {
   "cell_type": "code",
   "execution_count": 16,
   "id": "9260c96e",
   "metadata": {},
   "outputs": [
    {
     "name": "stdout",
     "output_type": "stream",
     "text": [
      "Время:  4.69  минут.\n"
     ]
    }
   ],
   "source": [
    "\n",
    "train_feature = vec.transform(X_train)\n",
    "test_feature = vec.transform(X_test)\n"
   ]
  },
  {
   "cell_type": "markdown",
   "id": "64698302",
   "metadata": {},
   "source": [
    "**Количество уникальных слов (размер словаря):**"
   ]
  },
  {
   "cell_type": "code",
   "execution_count": 17,
   "id": "27080cf2",
   "metadata": {},
   "outputs": [
    {
     "data": {
      "text/plain": [
       "938419"
      ]
     },
     "execution_count": 17,
     "metadata": {},
     "output_type": "execute_result"
    }
   ],
   "source": [
    "train_feature.shape[1]"
   ]
  },
  {
   "cell_type": "markdown",
   "id": "22a05857",
   "metadata": {},
   "source": [
    "# Построение нулевой модели:"
   ]
  },
  {
   "cell_type": "markdown",
   "id": "261d4913",
   "metadata": {},
   "source": [
    "* без оптимизатора\n",
    "* без учета соотношения положительных и отрицательных отзывов\n",
    "* без сведения к корню и исключения служебных слов"
   ]
  },
  {
   "cell_type": "code",
   "execution_count": 24,
   "id": "71c08ffe",
   "metadata": {},
   "outputs": [],
   "source": [
    "from sklearn.linear_model import LogisticRegression"
   ]
  },
  {
   "cell_type": "code",
   "execution_count": 38,
   "id": "fb4584b1",
   "metadata": {},
   "outputs": [
    {
     "name": "stderr",
     "output_type": "stream",
     "text": [
      "C:\\Users\\ivevv\\anaconda3\\lib\\site-packages\\sklearn\\linear_model\\_logistic.py:763: ConvergenceWarning: lbfgs failed to converge (status=1):\n",
      "STOP: TOTAL NO. of ITERATIONS REACHED LIMIT.\n",
      "\n",
      "Increase the number of iterations (max_iter) or scale the data as shown in:\n",
      "    https://scikit-learn.org/stable/modules/preprocessing.html\n",
      "Please also refer to the documentation for alternative solver options:\n",
      "    https://scikit-learn.org/stable/modules/linear_model.html#logistic-regression\n",
      "  n_iter_i = _check_optimize_result(\n"
     ]
    },
    {
     "data": {
      "text/plain": [
       "LogisticRegression()"
      ]
     },
     "execution_count": 38,
     "metadata": {},
     "output_type": "execute_result"
    }
   ],
   "source": [
    "model0 = LogisticRegression()\n",
    "model0.fit(train_feature, y_train)"
   ]
  },
  {
   "cell_type": "markdown",
   "id": "e4b9e142",
   "metadata": {},
   "source": [
    "Набор данных ***слишком большой***."
   ]
  },
  {
   "cell_type": "markdown",
   "id": "dc96f48b",
   "metadata": {},
   "source": [
    "# Построение первой модели:"
   ]
  },
  {
   "cell_type": "markdown",
   "id": "dea14840",
   "metadata": {},
   "source": [
    "* с оптимизатором\n",
    "* без учета соотношения положительных и отрицательных отзывов\n",
    "* без сведения к корню и исключения служебных слов"
   ]
  },
  {
   "cell_type": "code",
   "execution_count": 22,
   "id": "867f3046",
   "metadata": {},
   "outputs": [],
   "source": [
    "import time"
   ]
  },
  {
   "cell_type": "code",
   "execution_count": 50,
   "id": "48aa7523",
   "metadata": {},
   "outputs": [
    {
     "name": "stdout",
     "output_type": "stream",
     "text": [
      "Время обучения модели:  3.17  минут.\n"
     ]
    }
   ],
   "source": [
    "start = time.time()\n",
    "model1 = LogisticRegression(solver = 'sag')\n",
    "model1.fit(train_feature, y_train)\n",
    "print('Время обучения модели: ', round((time.time() - start)/60, 2), \" минут.\")"
   ]
  },
  {
   "cell_type": "markdown",
   "id": "b7d827a1",
   "metadata": {},
   "source": [
    "### Оценка модели"
   ]
  },
  {
   "cell_type": "code",
   "execution_count": 28,
   "id": "52ee9675",
   "metadata": {},
   "outputs": [],
   "source": [
    "from sklearn import metrics"
   ]
  },
  {
   "cell_type": "code",
   "execution_count": 51,
   "id": "e3656f33",
   "metadata": {},
   "outputs": [
    {
     "name": "stdout",
     "output_type": "stream",
     "text": [
      "F-score:  0.97\n"
     ]
    }
   ],
   "source": [
    "y_pred = model1.predict(test_feature)\n",
    "print('F-score: ', round(metrics.f1_score(y_test, y_pred), 2))"
   ]
  },
  {
   "cell_type": "markdown",
   "id": "1c25ef5d",
   "metadata": {},
   "source": [
    "### Матрица ошибок"
   ]
  },
  {
   "cell_type": "code",
   "execution_count": 27,
   "id": "16dd3143",
   "metadata": {},
   "outputs": [],
   "source": [
    "import matplotlib.pyplot as plt"
   ]
  },
  {
   "cell_type": "code",
   "execution_count": 64,
   "id": "d7bda334",
   "metadata": {},
   "outputs": [
    {
     "data": {
      "text/plain": [
       "<sklearn.metrics._plot.confusion_matrix.ConfusionMatrixDisplay at 0x22b677a5e20>"
      ]
     },
     "execution_count": 64,
     "metadata": {},
     "output_type": "execute_result"
    },
    {
     "data": {
      "image/png": "[encoded data removed]",
      "text/plain": [
       "<Figure size 432x288 with 2 Axes>"
      ]
     },
     "metadata": {
      "needs_background": "light"
     },
     "output_type": "display_data"
    }
   ],
   "source": [
    "metrics.plot_confusion_matrix(model1, test_feature, y_test, display_labels=['negative', 'positive'],\n",
    "                              cmap = plt.cm.Blues, normalize = 'true')"
   ]
  },
  {
   "cell_type": "markdown",
   "id": "9ee6876c",
   "metadata": {},
   "source": [
    "Заметим, что полученная модель в 40% случаев ошибается при классификации негативных отзывов.\n",
    "\n",
    "**Почему?**"
   ]
  },
  {
   "cell_type": "markdown",
   "id": "c09c2594",
   "metadata": {},
   "source": [
    "Посмотрим соотношение негативных и позитивных отзывов в анализируемых данных."
   ]
  },
  {
   "cell_type": "code",
   "execution_count": 34,
   "id": "0d066ef7",
   "metadata": {},
   "outputs": [
    {
     "data": {
      "text/plain": [
       "'0.11.1'"
      ]
     },
     "execution_count": 34,
     "metadata": {},
     "output_type": "execute_result"
    }
   ],
   "source": [
    "import seaborn as sns\n",
    "sns.__version__"
   ]
  },
  {
   "cell_type": "code",
   "execution_count": 66,
   "id": "722e7c5e",
   "metadata": {},
   "outputs": [
    {
     "name": "stderr",
     "output_type": "stream",
     "text": [
      "C:\\Users\\ivevv\\anaconda3\\lib\\site-packages\\seaborn\\_decorators.py:36: FutureWarning: Pass the following variable as a keyword arg: x. From version 0.12, the only valid positional argument will be `data`, and passing other arguments without an explicit keyword will result in an error or misinterpretation.\n",
      "  warnings.warn(\n"
     ]
    },
    {
     "data": {
      "text/plain": [
       "<AxesSubplot:xlabel='recommended', ylabel='count'>"
      ]
     },
     "execution_count": 66,
     "metadata": {},
     "output_type": "execute_result"
    },
    {
     "data": {
      "image/png": "[encoded data removed]",
      "text/plain": [
       "<Figure size 432x288 with 1 Axes>"
      ]
     },
     "metadata": {
      "needs_background": "light"
     },
     "output_type": "display_data"
    }
   ],
   "source": [
    "sns.countplot(eng_reviews['recommended'])"
   ]
  },
  {
   "cell_type": "markdown",
   "id": "46a5e93c",
   "metadata": {},
   "source": [
    "Соотношение отзывов явно неравное. Попробуем уравновесить это в следующей модели."
   ]
  },
  {
   "cell_type": "markdown",
   "id": "fe18e780",
   "metadata": {},
   "source": [
    "# Построение второй модели:"
   ]
  },
  {
   "cell_type": "markdown",
   "id": "f298cb28",
   "metadata": {},
   "source": [
    "* с оптимизатором\n",
    "* с учетом соотношения положительных и отрицательных отзывов путем применения параметра *stratify*\n",
    "* без сведения к корню и исключения служебных слов"
   ]
  },
  {
   "cell_type": "code",
   "execution_count": 18,
   "id": "4b5635e3",
   "metadata": {},
   "outputs": [
    {
     "name": "stdout",
     "output_type": "stream",
     "text": [
      "Время:  0.1  минут.\n"
     ]
    }
   ],
   "source": [
    "start = time.time()\n",
    "X_train, X_test, y_train, y_test = train_test_split(X, Y, test_size = 0.3, stratify = Y, random_state = 42)\n",
    "print('Время: ', round((time.time() - start)/60, 2), \" минут.\")"
   ]
  },
  {
   "cell_type": "code",
   "execution_count": 19,
   "id": "42a9958c",
   "metadata": {},
   "outputs": [
    {
     "name": "stdout",
     "output_type": "stream",
     "text": [
      "Время:  3.1  минут.\n"
     ]
    }
   ],
   "source": [
    "start = time.time()\n",
    "vec = TfidfVectorizer()\n",
    "vec.fit(X_train)\n",
    "print('Время: ', round((time.time() - start)/60, 2), \" минут.\")"
   ]
  },
  {
   "cell_type": "code",
   "execution_count": 20,
   "id": "2f8af047",
   "metadata": {},
   "outputs": [
    {
     "name": "stdout",
     "output_type": "stream",
     "text": [
      "Время:  4.77  минут.\n"
     ]
    }
   ],
   "source": [
    "start = time.time()\n",
    "train_feature = vec.transform(X_train)\n",
    "test_feature = vec.transform(X_test)\n",
    "print('Время: ', round((time.time() - start)/60, 2), \" минут.\")"
   ]
  },
  {
   "cell_type": "code",
   "execution_count": 28,
   "id": "ea86dea8",
   "metadata": {},
   "outputs": [
    {
     "name": "stdout",
     "output_type": "stream",
     "text": [
      "Время обучения модели:  2.88  минут.\n"
     ]
    }
   ],
   "source": [
    "start = time.time()\n",
    "model2 = LogisticRegression(solver = 'sag')\n",
    "model2.fit(train_feature, y_train)\n",
    "print('Время обучения модели: ', round((time.time() - start)/60, 2), \" минут.\")"
   ]
  },
  {
   "cell_type": "markdown",
   "id": "92ff0ae6",
   "metadata": {},
   "source": [
    "### Оценка модели"
   ]
  },
  {
   "cell_type": "code",
   "execution_count": 29,
   "id": "91998ab8",
   "metadata": {},
   "outputs": [
    {
     "name": "stdout",
     "output_type": "stream",
     "text": [
      "F-score:  0.97\n"
     ]
    }
   ],
   "source": [
    "y_pred = model2.predict(test_feature)\n",
    "print('F-score: ', round(metrics.f1_score(y_test, y_pred), 2))"
   ]
  },
  {
   "cell_type": "markdown",
   "id": "fbee8e7a",
   "metadata": {},
   "source": [
    "### Матрица ошибок"
   ]
  },
  {
   "cell_type": "code",
   "execution_count": 30,
   "id": "3aa60d59",
   "metadata": {},
   "outputs": [
    {
     "data": {
      "text/plain": [
       "<sklearn.metrics._plot.confusion_matrix.ConfusionMatrixDisplay at 0x24ad50d05e0>"
      ]
     },
     "execution_count": 30,
     "metadata": {},
     "output_type": "execute_result"
    },
    {
     "data": {
      "image/png": "[encoded data removed]",
      "text/plain": [
       "<Figure size 432x288 with 2 Axes>"
      ]
     },
     "metadata": {
      "needs_background": "light"
     },
     "output_type": "display_data"
    }
   ],
   "source": [
    "metrics.plot_confusion_matrix(model2, test_feature, y_test, display_labels=['negative', 'positive'],\n",
    "                              cmap = plt.cm.Blues, normalize = 'true')"
   ]
  },
  {
   "cell_type": "markdown",
   "id": "c86c3f25",
   "metadata": {},
   "source": [
    "Заметим, что применение параметра *stratify* не повлияло на работу модели.\n",
    "\n",
    "Попробуем уравновесить соотношение данных путем андерсемплинга класса положительных отзывов."
   ]
  },
  {
   "cell_type": "markdown",
   "id": "94312b9e",
   "metadata": {},
   "source": [
    "# Построение третьей модели:"
   ]
  },
  {
   "cell_type": "markdown",
   "id": "f93cfb1d",
   "metadata": {},
   "source": [
    "* с оптимизатором\n",
    "* с учетом соотношения положительных и отрицательных отзывов путем андерсемплинга\n",
    "* без сведения к корню и исключения служебных слов"
   ]
  },
  {
   "cell_type": "code",
   "execution_count": 21,
   "id": "98c652b6",
   "metadata": {},
   "outputs": [],
   "source": [
    "from imblearn.under_sampling import RandomUnderSampler"
   ]
  },
  {
   "cell_type": "code",
   "execution_count": 22,
   "id": "f8e2d7e8",
   "metadata": {},
   "outputs": [],
   "source": [
    "us = RandomUnderSampler(sampling_strategy='majority')\n",
    "X_under, y_under = us.fit_resample(train_feature, y_train)"
   ]
  },
  {
   "cell_type": "code",
   "execution_count": 25,
   "id": "27cfe5d4",
   "metadata": {},
   "outputs": [
    {
     "name": "stdout",
     "output_type": "stream",
     "text": [
      "Время обучения модели:  0.68  минут.\n"
     ]
    }
   ],
   "source": [
    "start = time.time()\n",
    "model3 = LogisticRegression(solver = 'sag')\n",
    "model3.fit(X_under, y_under)\n",
    "print('Время обучения модели: ', round((time.time() - start)/60, 2), \" минут.\")"
   ]
  },
  {
   "cell_type": "markdown",
   "id": "a03ea859",
   "metadata": {},
   "source": [
    "### Оценка модели"
   ]
  },
  {
   "cell_type": "code",
   "execution_count": 29,
   "id": "8ef2f473",
   "metadata": {
    "scrolled": true
   },
   "outputs": [
    {
     "name": "stdout",
     "output_type": "stream",
     "text": [
      "F-score:  0.94\n"
     ]
    }
   ],
   "source": [
    "y_pred = model3.predict(test_feature)\n",
    "print('F-score: ', round(metrics.f1_score(y_test, y_pred), 2))"
   ]
  },
  {
   "cell_type": "markdown",
   "id": "2bebad87",
   "metadata": {},
   "source": [
    "### Матрица ошибок"
   ]
  },
  {
   "cell_type": "code",
   "execution_count": 30,
   "id": "90b0a24b",
   "metadata": {},
   "outputs": [
    {
     "data": {
      "text/plain": [
       "<sklearn.metrics._plot.confusion_matrix.ConfusionMatrixDisplay at 0x20e91f37490>"
      ]
     },
     "execution_count": 30,
     "metadata": {},
     "output_type": "execute_result"
    },
    {
     "data": {
      "image/png": "[encoded data removed]",
      "text/plain": [
       "<Figure size 432x288 with 2 Axes>"
      ]
     },
     "metadata": {
      "needs_background": "light"
     },
     "output_type": "display_data"
    }
   ],
   "source": [
    "metrics.plot_confusion_matrix(model3, test_feature, y_test, display_labels=['negative', 'positive'],\n",
    "                              cmap = plt.cm.Blues, normalize = 'true')"
   ]
  },
  {
   "cell_type": "markdown",
   "id": "fb8d1d32",
   "metadata": {},
   "source": [
    "Несмотря на то, что точность классификации немного упала, теперь модель одинаково точно определяет негативные и позитивные отзывы."
   ]
  },
  {
   "cell_type": "markdown",
   "id": "0815416b",
   "metadata": {},
   "source": [
    "## Визуализация полученных результатов"
   ]
  },
  {
   "cell_type": "markdown",
   "id": "a7be7af3",
   "metadata": {},
   "source": [
    "Посмотрим какие слова имеют наибольшее значение при классификации отзывов на положительные и отрицательные."
   ]
  },
  {
   "cell_type": "code",
   "execution_count": 31,
   "id": "0fd5c4df",
   "metadata": {},
   "outputs": [
    {
     "data": {
      "text/plain": [
       "'1.20.1'"
      ]
     },
     "execution_count": 31,
     "metadata": {},
     "output_type": "execute_result"
    }
   ],
   "source": [
    "import numpy as np\n",
    "np.__version__"
   ]
  },
  {
   "cell_type": "code",
   "execution_count": 32,
   "id": "7e92f66f",
   "metadata": {},
   "outputs": [],
   "source": [
    "feat_imp = model3.coef_[0]\n",
    "sorted_idx = np.argsort(feat_imp)"
   ]
  },
  {
   "cell_type": "code",
   "execution_count": 35,
   "id": "db4fb7e9",
   "metadata": {},
   "outputs": [
    {
     "name": "stderr",
     "output_type": "stream",
     "text": [
      "C:\\Users\\ivevv\\anaconda3\\lib\\site-packages\\seaborn\\_decorators.py:36: FutureWarning: Pass the following variables as keyword args: x, y. From version 0.12, the only valid positional argument will be `data`, and passing other arguments without an explicit keyword will result in an error or misinterpretation.\n",
      "  warnings.warn(\n"
     ]
    },
    {
     "data": {
      "image/png": "[encoded data removed]",
      "text/plain": [
       "<Figure size 432x288 with 1 Axes>"
      ]
     },
     "metadata": {
      "needs_background": "light"
     },
     "output_type": "display_data"
    }
   ],
   "source": [
    "most_pos = [list(vec.vocabulary_.keys())[list(vec.vocabulary_.values()).index(w)] for w in sorted_idx[range(-1, -11, -1)]]\n",
    "vis = sns.barplot(most_pos, feat_imp[sorted_idx[range(-1,-11, -1)]])\n",
    "plt.title(\"Наиболее значимые слова для классификации положительных отзывов\")\n",
    "plt.xticks(rotation = 40)\n",
    "plt.show()"
   ]
  },
  {
   "cell_type": "code",
   "execution_count": 87,
   "id": "fd3aa0f7",
   "metadata": {
    "scrolled": true
   },
   "outputs": [
    {
     "name": "stderr",
     "output_type": "stream",
     "text": [
      "C:\\Users\\ivevv\\anaconda3\\lib\\site-packages\\seaborn\\_decorators.py:36: FutureWarning: Pass the following variables as keyword args: x, y. From version 0.12, the only valid positional argument will be `data`, and passing other arguments without an explicit keyword will result in an error or misinterpretation.\n",
      "  warnings.warn(\n"
     ]
    },
    {
     "data": {
      "image/png": "[encoded data removed]",
      "text/plain": [
       "<Figure size 432x288 with 1 Axes>"
      ]
     },
     "metadata": {
      "needs_background": "light"
     },
     "output_type": "display_data"
    }
   ],
   "source": [
    "most_neg = [list(vec.vocabulary_.keys())[list(vec.vocabulary_.values()).index(w)] for w in sorted_idx[:10]]\n",
    "vis = sns.barplot(most_neg, feat_imp[sorted_idx[:10]])\n",
    "plt.title(\"Наиболее значимые слова для классификации отрицательных отзывов\")\n",
    "plt.xticks(rotation = 40)\n",
    "plt.show()"
   ]
  },
  {
   "cell_type": "markdown",
   "id": "ba818239",
   "metadata": {},
   "source": [
    "Посмотрим, влияет ли стемминг (сведение к корню) и исключение служебных слов на точность классификации.\n",
    "\n",
    "Продолжим при этом использовать андерсемплинг."
   ]
  },
  {
   "cell_type": "markdown",
   "id": "8bd77f08",
   "metadata": {},
   "source": [
    "# Построение четвертой модели:"
   ]
  },
  {
   "cell_type": "markdown",
   "id": "dbb3cb74",
   "metadata": {},
   "source": [
    "* с оптимизатором\n",
    "* с учетом соотношения положительных и отрицательных отзывов путем андерсемплинга\n",
    "* со стеммингом и исключением служебных слов"
   ]
  },
  {
   "cell_type": "markdown",
   "id": "0108bba3",
   "metadata": {},
   "source": [
    "**Преподготовка текста:**"
   ]
  },
  {
   "cell_type": "code",
   "execution_count": 33,
   "id": "b94402d8",
   "metadata": {},
   "outputs": [
    {
     "data": {
      "text/plain": [
       "'3.6.1'"
      ]
     },
     "execution_count": 33,
     "metadata": {},
     "output_type": "execute_result"
    }
   ],
   "source": [
    "import nltk\n",
    "nltk.__version__"
   ]
  },
  {
   "cell_type": "code",
   "execution_count": 34,
   "id": "b48c8f32",
   "metadata": {},
   "outputs": [],
   "source": [
    "from nltk.corpus import stopwords\n",
    "from nltk.stem import PorterStemmer\n",
    "from nltk.tokenize import word_tokenize"
   ]
  },
  {
   "cell_type": "code",
   "execution_count": 35,
   "id": "6d69302f",
   "metadata": {},
   "outputs": [],
   "source": [
    "pst = PorterStemmer()\n",
    "sw = set(stopwords.words(\"english\"))"
   ]
  },
  {
   "cell_type": "code",
   "execution_count": 36,
   "id": "6c5e9c26",
   "metadata": {},
   "outputs": [],
   "source": [
    "def stem_stop(text):\n",
    "    words = word_tokenize(text)\n",
    "    text = []\n",
    "    for w in words:\n",
    "        if w not in sw:\n",
    "            text.append(pst.stem(w))\n",
    "    return text"
   ]
  },
  {
   "cell_type": "code",
   "execution_count": 37,
   "id": "f12f674e",
   "metadata": {},
   "outputs": [
    {
     "ename": "RecursionError",
     "evalue": "maximum recursion depth exceeded in comparison",
     "output_type": "error",
     "traceback": [
      "\u001b[1;31m---------------------------------------------------------------------------\u001b[0m",
      "\u001b[1;31mRecursionError\u001b[0m                            Traceback (most recent call last)",
      "\u001b[1;32m<ipython-input-37-c044547209bc>\u001b[0m in \u001b[0;36m<module>\u001b[1;34m\u001b[0m\n\u001b[1;32m----> 1\u001b[1;33m \u001b[0mX\u001b[0m \u001b[1;33m=\u001b[0m \u001b[0mX\u001b[0m\u001b[1;33m.\u001b[0m\u001b[0mapply\u001b[0m\u001b[1;33m(\u001b[0m\u001b[0mstem_stop\u001b[0m\u001b[1;33m)\u001b[0m\u001b[1;33m\u001b[0m\u001b[1;33m\u001b[0m\u001b[0m\n\u001b[0m",
      "\u001b[1;32m~\\anaconda3\\lib\\site-packages\\pandas\\core\\series.py\u001b[0m in \u001b[0;36mapply\u001b[1;34m(self, func, convert_dtype, args, **kwds)\u001b[0m\n\u001b[0;32m   4136\u001b[0m             \u001b[1;32melse\u001b[0m\u001b[1;33m:\u001b[0m\u001b[1;33m\u001b[0m\u001b[1;33m\u001b[0m\u001b[0m\n\u001b[0;32m   4137\u001b[0m                 \u001b[0mvalues\u001b[0m \u001b[1;33m=\u001b[0m \u001b[0mself\u001b[0m\u001b[1;33m.\u001b[0m\u001b[0mastype\u001b[0m\u001b[1;33m(\u001b[0m\u001b[0mobject\u001b[0m\u001b[1;33m)\u001b[0m\u001b[1;33m.\u001b[0m\u001b[0m_values\u001b[0m\u001b[1;33m\u001b[0m\u001b[1;33m\u001b[0m\u001b[0m\n\u001b[1;32m-> 4138\u001b[1;33m                 \u001b[0mmapped\u001b[0m \u001b[1;33m=\u001b[0m \u001b[0mlib\u001b[0m\u001b[1;33m.\u001b[0m\u001b[0mmap_infer\u001b[0m\u001b[1;33m(\u001b[0m\u001b[0mvalues\u001b[0m\u001b[1;33m,\u001b[0m \u001b[0mf\u001b[0m\u001b[1;33m,\u001b[0m \u001b[0mconvert\u001b[0m\u001b[1;33m=\u001b[0m\u001b[0mconvert_dtype\u001b[0m\u001b[1;33m)\u001b[0m\u001b[1;33m\u001b[0m\u001b[1;33m\u001b[0m\u001b[0m\n\u001b[0m\u001b[0;32m   4139\u001b[0m \u001b[1;33m\u001b[0m\u001b[0m\n\u001b[0;32m   4140\u001b[0m         \u001b[1;32mif\u001b[0m \u001b[0mlen\u001b[0m\u001b[1;33m(\u001b[0m\u001b[0mmapped\u001b[0m\u001b[1;33m)\u001b[0m \u001b[1;32mand\u001b[0m \u001b[0misinstance\u001b[0m\u001b[1;33m(\u001b[0m\u001b[0mmapped\u001b[0m\u001b[1;33m[\u001b[0m\u001b[1;36m0\u001b[0m\u001b[1;33m]\u001b[0m\u001b[1;33m,\u001b[0m \u001b[0mSeries\u001b[0m\u001b[1;33m)\u001b[0m\u001b[1;33m:\u001b[0m\u001b[1;33m\u001b[0m\u001b[1;33m\u001b[0m\u001b[0m\n",
      "\u001b[1;32mpandas\\_libs\\lib.pyx\u001b[0m in \u001b[0;36mpandas._libs.lib.map_infer\u001b[1;34m()\u001b[0m\n",
      "\u001b[1;32m<ipython-input-36-117b94e9084e>\u001b[0m in \u001b[0;36mstem_stop\u001b[1;34m(text)\u001b[0m\n\u001b[0;32m      4\u001b[0m     \u001b[1;32mfor\u001b[0m \u001b[0mw\u001b[0m \u001b[1;32min\u001b[0m \u001b[0mwords\u001b[0m\u001b[1;33m:\u001b[0m\u001b[1;33m\u001b[0m\u001b[1;33m\u001b[0m\u001b[0m\n\u001b[0;32m      5\u001b[0m         \u001b[1;32mif\u001b[0m \u001b[0mw\u001b[0m \u001b[1;32mnot\u001b[0m \u001b[1;32min\u001b[0m \u001b[0msw\u001b[0m\u001b[1;33m:\u001b[0m\u001b[1;33m\u001b[0m\u001b[1;33m\u001b[0m\u001b[0m\n\u001b[1;32m----> 6\u001b[1;33m             \u001b[0mtext\u001b[0m\u001b[1;33m.\u001b[0m\u001b[0mappend\u001b[0m\u001b[1;33m(\u001b[0m\u001b[0mpst\u001b[0m\u001b[1;33m.\u001b[0m\u001b[0mstem\u001b[0m\u001b[1;33m(\u001b[0m\u001b[0mw\u001b[0m\u001b[1;33m)\u001b[0m\u001b[1;33m)\u001b[0m\u001b[1;33m\u001b[0m\u001b[1;33m\u001b[0m\u001b[0m\n\u001b[0m\u001b[0;32m      7\u001b[0m     \u001b[1;32mreturn\u001b[0m \u001b[0mtext\u001b[0m\u001b[1;33m\u001b[0m\u001b[1;33m\u001b[0m\u001b[0m\n",
      "\u001b[1;32m~\\anaconda3\\lib\\site-packages\\nltk\\stem\\porter.py\u001b[0m in \u001b[0;36mstem\u001b[1;34m(self, word, to_lowercase)\u001b[0m\n\u001b[0;32m    667\u001b[0m         \u001b[0mstem\u001b[0m \u001b[1;33m=\u001b[0m \u001b[0mself\u001b[0m\u001b[1;33m.\u001b[0m\u001b[0m_step1a\u001b[0m\u001b[1;33m(\u001b[0m\u001b[0mstem\u001b[0m\u001b[1;33m)\u001b[0m\u001b[1;33m\u001b[0m\u001b[1;33m\u001b[0m\u001b[0m\n\u001b[0;32m    668\u001b[0m         \u001b[0mstem\u001b[0m \u001b[1;33m=\u001b[0m \u001b[0mself\u001b[0m\u001b[1;33m.\u001b[0m\u001b[0m_step1b\u001b[0m\u001b[1;33m(\u001b[0m\u001b[0mstem\u001b[0m\u001b[1;33m)\u001b[0m\u001b[1;33m\u001b[0m\u001b[1;33m\u001b[0m\u001b[0m\n\u001b[1;32m--> 669\u001b[1;33m         \u001b[0mstem\u001b[0m \u001b[1;33m=\u001b[0m \u001b[0mself\u001b[0m\u001b[1;33m.\u001b[0m\u001b[0m_step1c\u001b[0m\u001b[1;33m(\u001b[0m\u001b[0mstem\u001b[0m\u001b[1;33m)\u001b[0m\u001b[1;33m\u001b[0m\u001b[1;33m\u001b[0m\u001b[0m\n\u001b[0m\u001b[0;32m    670\u001b[0m         \u001b[0mstem\u001b[0m \u001b[1;33m=\u001b[0m \u001b[0mself\u001b[0m\u001b[1;33m.\u001b[0m\u001b[0m_step2\u001b[0m\u001b[1;33m(\u001b[0m\u001b[0mstem\u001b[0m\u001b[1;33m)\u001b[0m\u001b[1;33m\u001b[0m\u001b[1;33m\u001b[0m\u001b[0m\n\u001b[0;32m    671\u001b[0m         \u001b[0mstem\u001b[0m \u001b[1;33m=\u001b[0m \u001b[0mself\u001b[0m\u001b[1;33m.\u001b[0m\u001b[0m_step3\u001b[0m\u001b[1;33m(\u001b[0m\u001b[0mstem\u001b[0m\u001b[1;33m)\u001b[0m\u001b[1;33m\u001b[0m\u001b[1;33m\u001b[0m\u001b[0m\n",
      "\u001b[1;32m~\\anaconda3\\lib\\site-packages\\nltk\\stem\\porter.py\u001b[0m in \u001b[0;36m_step1c\u001b[1;34m(self, word)\u001b[0m\n\u001b[0;32m    417\u001b[0m             \u001b[1;32mreturn\u001b[0m \u001b[0mself\u001b[0m\u001b[1;33m.\u001b[0m\u001b[0m_contains_vowel\u001b[0m\u001b[1;33m(\u001b[0m\u001b[0mstem\u001b[0m\u001b[1;33m)\u001b[0m\u001b[1;33m\u001b[0m\u001b[1;33m\u001b[0m\u001b[0m\n\u001b[0;32m    418\u001b[0m \u001b[1;33m\u001b[0m\u001b[0m\n\u001b[1;32m--> 419\u001b[1;33m         return self._apply_rule_list(\n\u001b[0m\u001b[0;32m    420\u001b[0m             \u001b[0mword\u001b[0m\u001b[1;33m,\u001b[0m\u001b[1;33m\u001b[0m\u001b[1;33m\u001b[0m\u001b[0m\n\u001b[0;32m    421\u001b[0m             [\n",
      "\u001b[1;32m~\\anaconda3\\lib\\site-packages\\nltk\\stem\\porter.py\u001b[0m in \u001b[0;36m_apply_rule_list\u001b[1;34m(self, word, rules)\u001b[0m\n\u001b[0;32m    263\u001b[0m             \u001b[1;32mif\u001b[0m \u001b[0mword\u001b[0m\u001b[1;33m.\u001b[0m\u001b[0mendswith\u001b[0m\u001b[1;33m(\u001b[0m\u001b[0msuffix\u001b[0m\u001b[1;33m)\u001b[0m\u001b[1;33m:\u001b[0m\u001b[1;33m\u001b[0m\u001b[1;33m\u001b[0m\u001b[0m\n\u001b[0;32m    264\u001b[0m                 \u001b[0mstem\u001b[0m \u001b[1;33m=\u001b[0m \u001b[0mself\u001b[0m\u001b[1;33m.\u001b[0m\u001b[0m_replace_suffix\u001b[0m\u001b[1;33m(\u001b[0m\u001b[0mword\u001b[0m\u001b[1;33m,\u001b[0m \u001b[0msuffix\u001b[0m\u001b[1;33m,\u001b[0m \u001b[1;34m\"\"\u001b[0m\u001b[1;33m)\u001b[0m\u001b[1;33m\u001b[0m\u001b[1;33m\u001b[0m\u001b[0m\n\u001b[1;32m--> 265\u001b[1;33m                 \u001b[1;32mif\u001b[0m \u001b[0mcondition\u001b[0m \u001b[1;32mis\u001b[0m \u001b[1;32mNone\u001b[0m \u001b[1;32mor\u001b[0m \u001b[0mcondition\u001b[0m\u001b[1;33m(\u001b[0m\u001b[0mstem\u001b[0m\u001b[1;33m)\u001b[0m\u001b[1;33m:\u001b[0m\u001b[1;33m\u001b[0m\u001b[1;33m\u001b[0m\u001b[0m\n\u001b[0m\u001b[0;32m    266\u001b[0m                     \u001b[1;32mreturn\u001b[0m \u001b[0mstem\u001b[0m \u001b[1;33m+\u001b[0m \u001b[0mreplacement\u001b[0m\u001b[1;33m\u001b[0m\u001b[1;33m\u001b[0m\u001b[0m\n\u001b[0;32m    267\u001b[0m                 \u001b[1;32melse\u001b[0m\u001b[1;33m:\u001b[0m\u001b[1;33m\u001b[0m\u001b[1;33m\u001b[0m\u001b[0m\n",
      "\u001b[1;32m~\\anaconda3\\lib\\site-packages\\nltk\\stem\\porter.py\u001b[0m in \u001b[0;36mnltk_condition\u001b[1;34m(stem)\u001b[0m\n\u001b[0;32m    412\u001b[0m             \u001b[0mconflate\u001b[0m \u001b[1;32mwith\u001b[0m \u001b[1;34m'spied'\u001b[0m\u001b[1;33m,\u001b[0m \u001b[1;34m'tried'\u001b[0m\u001b[1;33m,\u001b[0m \u001b[1;34m'flies'\u001b[0m \u001b[1;33m...\u001b[0m\u001b[1;33m\u001b[0m\u001b[1;33m\u001b[0m\u001b[0m\n\u001b[0;32m    413\u001b[0m             \"\"\"\n\u001b[1;32m--> 414\u001b[1;33m             \u001b[1;32mreturn\u001b[0m \u001b[0mlen\u001b[0m\u001b[1;33m(\u001b[0m\u001b[0mstem\u001b[0m\u001b[1;33m)\u001b[0m \u001b[1;33m>\u001b[0m \u001b[1;36m1\u001b[0m \u001b[1;32mand\u001b[0m \u001b[0mself\u001b[0m\u001b[1;33m.\u001b[0m\u001b[0m_is_consonant\u001b[0m\u001b[1;33m(\u001b[0m\u001b[0mstem\u001b[0m\u001b[1;33m,\u001b[0m \u001b[0mlen\u001b[0m\u001b[1;33m(\u001b[0m\u001b[0mstem\u001b[0m\u001b[1;33m)\u001b[0m \u001b[1;33m-\u001b[0m \u001b[1;36m1\u001b[0m\u001b[1;33m)\u001b[0m\u001b[1;33m\u001b[0m\u001b[1;33m\u001b[0m\u001b[0m\n\u001b[0m\u001b[0;32m    415\u001b[0m \u001b[1;33m\u001b[0m\u001b[0m\n\u001b[0;32m    416\u001b[0m         \u001b[1;32mdef\u001b[0m \u001b[0moriginal_condition\u001b[0m\u001b[1;33m(\u001b[0m\u001b[0mstem\u001b[0m\u001b[1;33m)\u001b[0m\u001b[1;33m:\u001b[0m\u001b[1;33m\u001b[0m\u001b[1;33m\u001b[0m\u001b[0m\n",
      "\u001b[1;32m~\\anaconda3\\lib\\site-packages\\nltk\\stem\\porter.py\u001b[0m in \u001b[0;36m_is_consonant\u001b[1;34m(self, word, i)\u001b[0m\n\u001b[0;32m    139\u001b[0m                 \u001b[1;32mreturn\u001b[0m \u001b[1;32mTrue\u001b[0m\u001b[1;33m\u001b[0m\u001b[1;33m\u001b[0m\u001b[0m\n\u001b[0;32m    140\u001b[0m             \u001b[1;32melse\u001b[0m\u001b[1;33m:\u001b[0m\u001b[1;33m\u001b[0m\u001b[1;33m\u001b[0m\u001b[0m\n\u001b[1;32m--> 141\u001b[1;33m                 \u001b[1;32mreturn\u001b[0m \u001b[1;32mnot\u001b[0m \u001b[0mself\u001b[0m\u001b[1;33m.\u001b[0m\u001b[0m_is_consonant\u001b[0m\u001b[1;33m(\u001b[0m\u001b[0mword\u001b[0m\u001b[1;33m,\u001b[0m \u001b[0mi\u001b[0m \u001b[1;33m-\u001b[0m \u001b[1;36m1\u001b[0m\u001b[1;33m)\u001b[0m\u001b[1;33m\u001b[0m\u001b[1;33m\u001b[0m\u001b[0m\n\u001b[0m\u001b[0;32m    142\u001b[0m         \u001b[1;32mreturn\u001b[0m \u001b[1;32mTrue\u001b[0m\u001b[1;33m\u001b[0m\u001b[1;33m\u001b[0m\u001b[0m\n\u001b[0;32m    143\u001b[0m \u001b[1;33m\u001b[0m\u001b[0m\n",
      "... last 1 frames repeated, from the frame below ...\n",
      "\u001b[1;32m~\\anaconda3\\lib\\site-packages\\nltk\\stem\\porter.py\u001b[0m in \u001b[0;36m_is_consonant\u001b[1;34m(self, word, i)\u001b[0m\n\u001b[0;32m    139\u001b[0m                 \u001b[1;32mreturn\u001b[0m \u001b[1;32mTrue\u001b[0m\u001b[1;33m\u001b[0m\u001b[1;33m\u001b[0m\u001b[0m\n\u001b[0;32m    140\u001b[0m             \u001b[1;32melse\u001b[0m\u001b[1;33m:\u001b[0m\u001b[1;33m\u001b[0m\u001b[1;33m\u001b[0m\u001b[0m\n\u001b[1;32m--> 141\u001b[1;33m                 \u001b[1;32mreturn\u001b[0m \u001b[1;32mnot\u001b[0m \u001b[0mself\u001b[0m\u001b[1;33m.\u001b[0m\u001b[0m_is_consonant\u001b[0m\u001b[1;33m(\u001b[0m\u001b[0mword\u001b[0m\u001b[1;33m,\u001b[0m \u001b[0mi\u001b[0m \u001b[1;33m-\u001b[0m \u001b[1;36m1\u001b[0m\u001b[1;33m)\u001b[0m\u001b[1;33m\u001b[0m\u001b[1;33m\u001b[0m\u001b[0m\n\u001b[0m\u001b[0;32m    142\u001b[0m         \u001b[1;32mreturn\u001b[0m \u001b[1;32mTrue\u001b[0m\u001b[1;33m\u001b[0m\u001b[1;33m\u001b[0m\u001b[0m\n\u001b[0;32m    143\u001b[0m \u001b[1;33m\u001b[0m\u001b[0m\n",
      "\u001b[1;31mRecursionError\u001b[0m: maximum recursion depth exceeded in comparison"
     ]
    }
   ],
   "source": [
    "X = X.apply(stem_stop)"
   ]
  },
  {
   "cell_type": "markdown",
   "id": "78d825b1",
   "metadata": {},
   "source": [
    "Ошибка рекурсии при применении стеммера может быть вызвана тем, что в каком-то из анализируемых отзывов присутсвует аномально длинное слово (например, пользователь не ставил пробелы между словами в предложении).\n",
    "\n",
    "Пока откажемся от стемминга.\n",
    "\n",
    "Воспользуемся встроенным параметром TF-IDF векторайзера для исключения служебных слов."
   ]
  },
  {
   "cell_type": "code",
   "execution_count": 88,
   "id": "284feb9a",
   "metadata": {},
   "outputs": [
    {
     "data": {
      "text/plain": [
       "TfidfVectorizer(stop_words='english')"
      ]
     },
     "execution_count": 88,
     "metadata": {},
     "output_type": "execute_result"
    }
   ],
   "source": [
    "vec = TfidfVectorizer(stop_words = 'english')\n",
    "vec.fit(X_train)"
   ]
  },
  {
   "cell_type": "code",
   "execution_count": 89,
   "id": "0f6c06cb",
   "metadata": {},
   "outputs": [],
   "source": [
    "train_feature = vec.transform(X_train)\n",
    "test_feature = vec.transform(X_test)"
   ]
  },
  {
   "cell_type": "code",
   "execution_count": 90,
   "id": "995a936d",
   "metadata": {},
   "outputs": [],
   "source": [
    "X_under, y_under = us.fit_resample(train_feature, y_train)"
   ]
  },
  {
   "cell_type": "code",
   "execution_count": 91,
   "id": "6be2ab3d",
   "metadata": {},
   "outputs": [
    {
     "name": "stdout",
     "output_type": "stream",
     "text": [
      "Время обучения модели:  0.57  минут.\n"
     ]
    }
   ],
   "source": [
    "start = time.time()\n",
    "model4 = LogisticRegression(solver = 'sag')\n",
    "model4.fit(X_under, y_under)\n",
    "print('Время обучения модели: ', round((time.time() - start)/60, 2), \" минут.\")"
   ]
  },
  {
   "cell_type": "markdown",
   "id": "ef0281a5",
   "metadata": {},
   "source": [
    "## Оценка модели"
   ]
  },
  {
   "cell_type": "code",
   "execution_count": 92,
   "id": "759f33e1",
   "metadata": {
    "scrolled": true
   },
   "outputs": [
    {
     "name": "stdout",
     "output_type": "stream",
     "text": [
      "F-score:  0.93\n"
     ]
    }
   ],
   "source": [
    "y_pred = model4.predict(test_feature)\n",
    "print('F-score: ', round(metrics.f1_score(y_test, y_pred), 2))"
   ]
  },
  {
   "cell_type": "markdown",
   "id": "bc61573e",
   "metadata": {},
   "source": [
    "## Матрица ошибок"
   ]
  },
  {
   "cell_type": "code",
   "execution_count": 93,
   "id": "099ea68e",
   "metadata": {},
   "outputs": [
    {
     "data": {
      "text/plain": [
       "<sklearn.metrics._plot.confusion_matrix.ConfusionMatrixDisplay at 0x24f375baf70>"
      ]
     },
     "execution_count": 93,
     "metadata": {},
     "output_type": "execute_result"
    },
    {
     "data": {
      "image/png": "[encoded data removed]",
      "text/plain": [
       "<Figure size 432x288 with 2 Axes>"
      ]
     },
     "metadata": {
      "needs_background": "light"
     },
     "output_type": "display_data"
    }
   ],
   "source": [
    "metrics.plot_confusion_matrix(model4, test_feature, y_test, display_labels=['negative', 'positive'],\n",
    "                              cmap = plt.cm.Blues, normalize = 'true')"
   ]
  },
  {
   "cell_type": "markdown",
   "id": "5647b240",
   "metadata": {},
   "source": [
    "Заметим, что при исключении служебных слов модель становится чуть менее точной при классификации негативных отзывов. Причиной этому может быть то, что отрицательная частица *not* считается служебным словом (\"стоп-словом\") и исключается из текста."
   ]
  },
  {
   "cell_type": "markdown",
   "id": "1e145f47",
   "metadata": {},
   "source": [
    "## Визуализация полученных результатов"
   ]
  },
  {
   "cell_type": "markdown",
   "id": "2f29c234",
   "metadata": {},
   "source": [
    "Посмотрим какие слова имеют наибольшее значение при классификации отзывов на положительные и отрицательные."
   ]
  },
  {
   "cell_type": "code",
   "execution_count": 94,
   "id": "0fd71230",
   "metadata": {},
   "outputs": [],
   "source": [
    "feat_imp = model4.coef_[0]\n",
    "sorted_idx = np.argsort(feat_imp)"
   ]
  },
  {
   "cell_type": "code",
   "execution_count": 95,
   "id": "e2f55e46",
   "metadata": {},
   "outputs": [
    {
     "name": "stderr",
     "output_type": "stream",
     "text": [
      "C:\\Users\\ivevv\\anaconda3\\lib\\site-packages\\seaborn\\_decorators.py:36: FutureWarning: Pass the following variables as keyword args: x, y. From version 0.12, the only valid positional argument will be `data`, and passing other arguments without an explicit keyword will result in an error or misinterpretation.\n",
      "  warnings.warn(\n"
     ]
    },
    {
     "data": {
      "image/png": "[encoded data removed]",
      "text/plain": [
       "<Figure size 432x288 with 1 Axes>"
      ]
     },
     "metadata": {
      "needs_background": "light"
     },
     "output_type": "display_data"
    }
   ],
   "source": [
    "most_pos = [list(vec.vocabulary_.keys())[list(vec.vocabulary_.values()).index(w)] for w in sorted_idx[range(-1, -11, -1)]]\n",
    "vis = sns.barplot(most_pos, feat_imp[sorted_idx[range(-1,-11, -1)]])\n",
    "plt.title(\"Наиболее значимые слова для классификации положительных отзывов\")\n",
    "plt.xticks(rotation = 40)\n",
    "plt.show()"
   ]
  },
  {
   "cell_type": "code",
   "execution_count": 96,
   "id": "def3aec9",
   "metadata": {
    "scrolled": true
   },
   "outputs": [
    {
     "name": "stderr",
     "output_type": "stream",
     "text": [
      "C:\\Users\\ivevv\\anaconda3\\lib\\site-packages\\seaborn\\_decorators.py:36: FutureWarning: Pass the following variables as keyword args: x, y. From version 0.12, the only valid positional argument will be `data`, and passing other arguments without an explicit keyword will result in an error or misinterpretation.\n",
      "  warnings.warn(\n"
     ]
    },
    {
     "data": {
      "image/png": "[encoded data removed]",
      "text/plain": [
       "<Figure size 432x288 with 1 Axes>"
      ]
     },
     "metadata": {
      "needs_background": "light"
     },
     "output_type": "display_data"
    }
   ],
   "source": [
    "most_neg = [list(vec.vocabulary_.keys())[list(vec.vocabulary_.values()).index(w)] for w in sorted_idx[:10]]\n",
    "vis = sns.barplot(most_neg, feat_imp[sorted_idx[:10]])\n",
    "plt.title(\"Наиболее значимые слова для классификации отрицательных отзывов\")\n",
    "plt.xticks(rotation = 40)\n",
    "plt.show()"
   ]
  },
  {
   "cell_type": "markdown",
   "id": "c1ba66fd",
   "metadata": {},
   "source": [
    "Наконец, попробуем учесть при составлении словаря и векторизации не только отдельные слова, но и наборы из двух слов с помощью параметра ngram_range."
   ]
  },
  {
   "cell_type": "markdown",
   "id": "e499bd5d",
   "metadata": {},
   "source": [
    "# Построение пятой модели:"
   ]
  },
  {
   "cell_type": "markdown",
   "id": "8114a692",
   "metadata": {},
   "source": [
    "* с оптимизатором\n",
    "* с учетом соотношения положительных и отрицательных отзывов путем андерсемплинга\n",
    "* с включением в словарь наборов из двух слов (биграм)"
   ]
  },
  {
   "cell_type": "code",
   "execution_count": 36,
   "id": "cc2b3ec6",
   "metadata": {},
   "outputs": [
    {
     "name": "stdout",
     "output_type": "stream",
     "text": [
      "Время:  9.27  минут.\n"
     ]
    }
   ],
   "source": [
    "start = time.time()\n",
    "vec = TfidfVectorizer(ngram_range = (1, 2))\n",
    "vec.fit(X_train)\n",
    "print('Время: ', round((time.time() - start)/60, 2), \" минут.\")"
   ]
  },
  {
   "cell_type": "code",
   "execution_count": 37,
   "id": "79683220",
   "metadata": {},
   "outputs": [
    {
     "name": "stdout",
     "output_type": "stream",
     "text": [
      "Время:  14.95  минут.\n"
     ]
    }
   ],
   "source": [
    "start = time.time()\n",
    "train_feature = vec.transform(X_train)\n",
    "test_feature = vec.transform(X_test)\n",
    "print('Время: ', round((time.time() - start)/60, 2), \" минут.\")"
   ]
  },
  {
   "cell_type": "code",
   "execution_count": 38,
   "id": "4fe6bbd5",
   "metadata": {},
   "outputs": [
    {
     "data": {
      "text/plain": [
       "16649174"
      ]
     },
     "execution_count": 38,
     "metadata": {},
     "output_type": "execute_result"
    }
   ],
   "source": [
    "train_feature.shape[1]"
   ]
  },
  {
   "cell_type": "markdown",
   "id": "8d1fa242",
   "metadata": {},
   "source": [
    "Размер словаря увеличился почти в два раза."
   ]
  },
  {
   "cell_type": "code",
   "execution_count": 39,
   "id": "eb01dbb5",
   "metadata": {},
   "outputs": [],
   "source": [
    "X_under, y_under = us.fit_resample(train_feature, y_train)"
   ]
  },
  {
   "cell_type": "code",
   "execution_count": null,
   "id": "6fd93178",
   "metadata": {},
   "outputs": [],
   "source": [
    "start = time.time()\n",
    "model5 = LogisticRegression(solver = 'sag')\n",
    "model5.fit(X_under, y_under)\n",
    "print('Время обучения модели: ', round((time.time() - start)/60, 2), \" минут.\")"
   ]
  },
  {
   "cell_type": "markdown",
   "id": "222426ee",
   "metadata": {},
   "source": [
    "## Оценка модели"
   ]
  },
  {
   "cell_type": "code",
   "execution_count": 53,
   "id": "bb3f93f2",
   "metadata": {
    "scrolled": true
   },
   "outputs": [
    {
     "name": "stdout",
     "output_type": "stream",
     "text": [
      "F-score:  0.95\n"
     ]
    }
   ],
   "source": [
    "y_pred = model5.predict(test_feature)\n",
    "print('F-score: ', round(metrics.f1_score(y_test, y_pred), 2))"
   ]
  },
  {
   "cell_type": "markdown",
   "id": "1fa7660e",
   "metadata": {},
   "source": [
    "## Матрица ошибок"
   ]
  },
  {
   "cell_type": "code",
   "execution_count": 55,
   "id": "e71d9ef8",
   "metadata": {},
   "outputs": [
    {
     "data": {
      "text/plain": [
       "<sklearn.metrics._plot.confusion_matrix.ConfusionMatrixDisplay at 0x24d67cae160>"
      ]
     },
     "execution_count": 55,
     "metadata": {},
     "output_type": "execute_result"
    },
    {
     "data": {
      "image/png": "[encoded data removed]",
      "text/plain": [
       "<Figure size 432x288 with 2 Axes>"
      ]
     },
     "metadata": {
      "needs_background": "light"
     },
     "output_type": "display_data"
    }
   ],
   "source": [
    "metrics.plot_confusion_matrix(model5, test_feature, y_test, display_labels=['negative', 'positive'],\n",
    "                              cmap = plt.cm.Blues, normalize = 'true')"
   ]
  },
  {
   "cell_type": "markdown",
   "id": "7101707a",
   "metadata": {},
   "source": [
    "Можно заметить, что включение в словарь биграм повысило точность модели."
   ]
  },
  {
   "cell_type": "markdown",
   "id": "7accf863",
   "metadata": {},
   "source": [
    "## Визуализация полученных результатов"
   ]
  },
  {
   "cell_type": "markdown",
   "id": "0a43df09",
   "metadata": {},
   "source": [
    "Посмотрим какие слова и сочетания слов имеют наибольшее значение при классификации отзывов на положительные и отрицательные."
   ]
  },
  {
   "cell_type": "code",
   "execution_count": 59,
   "id": "6ffdaef9",
   "metadata": {},
   "outputs": [],
   "source": [
    "feat_imp = model5.coef_[0]\n",
    "sorted_idx = np.argsort(feat_imp)"
   ]
  },
  {
   "cell_type": "code",
   "execution_count": 68,
   "id": "9b783eab",
   "metadata": {},
   "outputs": [
    {
     "name": "stderr",
     "output_type": "stream",
     "text": [
      "C:\\Users\\ivevv\\anaconda3\\lib\\site-packages\\seaborn\\_decorators.py:36: FutureWarning: Pass the following variables as keyword args: x, y. From version 0.12, the only valid positional argument will be `data`, and passing other arguments without an explicit keyword will result in an error or misinterpretation.\n",
      "  warnings.warn(\n"
     ]
    },
    {
     "data": {
      "image/png": "[encoded data removed]",
      "text/plain": [
       "<Figure size 432x288 with 1 Axes>"
      ]
     },
     "metadata": {
      "needs_background": "light"
     },
     "output_type": "display_data"
    }
   ],
   "source": [
    "most_pos = [list(vec.vocabulary_.keys())[list(vec.vocabulary_.values()).index(w)] for w in sorted_idx[range(-1, -11, -1)]]\n",
    "vis = sns.barplot(most_pos, feat_imp[sorted_idx[range(-1,-11, -1)]])\n",
    "plt.title(\"Наиболее значимые слова для классификации положительных отзывов\")\n",
    "plt.xticks(rotation = 40)\n",
    "plt.show()"
   ]
  },
  {
   "cell_type": "code",
   "execution_count": 69,
   "id": "a122f299",
   "metadata": {
    "scrolled": true
   },
   "outputs": [
    {
     "name": "stderr",
     "output_type": "stream",
     "text": [
      "C:\\Users\\ivevv\\anaconda3\\lib\\site-packages\\seaborn\\_decorators.py:36: FutureWarning: Pass the following variables as keyword args: x, y. From version 0.12, the only valid positional argument will be `data`, and passing other arguments without an explicit keyword will result in an error or misinterpretation.\n",
      "  warnings.warn(\n"
     ]
    },
    {
     "data": {
      "image/png": "[encoded data removed]",
      "text/plain": [
       "<Figure size 432x288 with 1 Axes>"
      ]
     },
     "metadata": {
      "needs_background": "light"
     },
     "output_type": "display_data"
    }
   ],
   "source": [
    "most_neg = [list(vec.vocabulary_.keys())[list(vec.vocabulary_.values()).index(w)] for w in sorted_idx[:10]]\n",
    "vis = sns.barplot(most_neg, feat_imp[sorted_idx[:10]])\n",
    "plt.title(\"Наиболее значимые слова для классификации отрицательных отзывов\")\n",
    "plt.xticks(rotation = 40)\n",
    "plt.show()"
   ]
  }
 ],
 "metadata": {
  "kernelspec": {
   "display_name": "Python 3",
   "language": "python",
   "name": "python3"
  },
  "language_info": {
   "codemirror_mode": {
    "name": "ipython",
    "version": 3
   },
   "file_extension": ".py",
   "mimetype": "text/x-python",
   "name": "python",
   "nbconvert_exporter": "python",
   "pygments_lexer": "ipython3",
   "version": "3.8.8"
  }
 },
 "nbformat": 4,
 "nbformat_minor": 5
}
