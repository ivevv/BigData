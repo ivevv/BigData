{
 "cells": [
  {
   "cell_type": "markdown",
   "id": "c2cd4283",
   "metadata": {},
   "source": [
    "**Метаинформация**"
   ]
  },
  {
   "cell_type": "code",
   "execution_count": 2,
   "id": "2b5ffa85",
   "metadata": {},
   "outputs": [],
   "source": [
    "import pandas as pd"
   ]
  },
  {
   "cell_type": "code",
   "execution_count": 3,
   "id": "21b8854f",
   "metadata": {},
   "outputs": [],
   "source": [
    "df = pd.read_csv('steam_reviews.csv')"
   ]
  },
  {
   "cell_type": "code",
   "execution_count": 10,
   "id": "66e70728",
   "metadata": {},
   "outputs": [
    {
     "data": {
      "text/html": [
       "<div>\n",
       "<style scoped>\n",
       "    .dataframe tbody tr th:only-of-type {\n",
       "        vertical-align: middle;\n",
       "    }\n",
       "\n",
       "    .dataframe tbody tr th {\n",
       "        vertical-align: top;\n",
       "    }\n",
       "\n",
       "    .dataframe thead th {\n",
       "        text-align: right;\n",
       "    }\n",
       "</style>\n",
       "<table border=\"1\" class=\"dataframe\">\n",
       "  <thead>\n",
       "    <tr style=\"text-align: right;\">\n",
       "      <th></th>\n",
       "      <th>Unnamed: 0</th>\n",
       "      <th>app_id</th>\n",
       "      <th>app_name</th>\n",
       "      <th>review_id</th>\n",
       "      <th>language</th>\n",
       "      <th>review</th>\n",
       "      <th>timestamp_created</th>\n",
       "      <th>timestamp_updated</th>\n",
       "      <th>recommended</th>\n",
       "      <th>votes_helpful</th>\n",
       "      <th>...</th>\n",
       "      <th>steam_purchase</th>\n",
       "      <th>received_for_free</th>\n",
       "      <th>written_during_early_access</th>\n",
       "      <th>author.steamid</th>\n",
       "      <th>author.num_games_owned</th>\n",
       "      <th>author.num_reviews</th>\n",
       "      <th>author.playtime_forever</th>\n",
       "      <th>author.playtime_last_two_weeks</th>\n",
       "      <th>author.playtime_at_review</th>\n",
       "      <th>author.last_played</th>\n",
       "    </tr>\n",
       "  </thead>\n",
       "  <tbody>\n",
       "    <tr>\n",
       "      <th>0</th>\n",
       "      <td>0</td>\n",
       "      <td>292030</td>\n",
       "      <td>The Witcher 3: Wild Hunt</td>\n",
       "      <td>85185598</td>\n",
       "      <td>schinese</td>\n",
       "      <td>不玩此生遗憾，RPG游戏里的天花板，太吸引人了</td>\n",
       "      <td>1611381629</td>\n",
       "      <td>1611381629</td>\n",
       "      <td>True</td>\n",
       "      <td>0</td>\n",
       "      <td>...</td>\n",
       "      <td>True</td>\n",
       "      <td>False</td>\n",
       "      <td>False</td>\n",
       "      <td>76561199095369542</td>\n",
       "      <td>6</td>\n",
       "      <td>2</td>\n",
       "      <td>1909.0</td>\n",
       "      <td>1448.0</td>\n",
       "      <td>1909.0</td>\n",
       "      <td>1.611343e+09</td>\n",
       "    </tr>\n",
       "    <tr>\n",
       "      <th>1</th>\n",
       "      <td>1</td>\n",
       "      <td>292030</td>\n",
       "      <td>The Witcher 3: Wild Hunt</td>\n",
       "      <td>85185250</td>\n",
       "      <td>schinese</td>\n",
       "      <td>拔DIAO无情打桩机--杰洛特!!!</td>\n",
       "      <td>1611381030</td>\n",
       "      <td>1611381030</td>\n",
       "      <td>True</td>\n",
       "      <td>0</td>\n",
       "      <td>...</td>\n",
       "      <td>True</td>\n",
       "      <td>False</td>\n",
       "      <td>False</td>\n",
       "      <td>76561198949504115</td>\n",
       "      <td>30</td>\n",
       "      <td>10</td>\n",
       "      <td>2764.0</td>\n",
       "      <td>2743.0</td>\n",
       "      <td>2674.0</td>\n",
       "      <td>1.611386e+09</td>\n",
       "    </tr>\n",
       "    <tr>\n",
       "      <th>2</th>\n",
       "      <td>2</td>\n",
       "      <td>292030</td>\n",
       "      <td>The Witcher 3: Wild Hunt</td>\n",
       "      <td>85185111</td>\n",
       "      <td>schinese</td>\n",
       "      <td>巫师3NB</td>\n",
       "      <td>1611380800</td>\n",
       "      <td>1611380800</td>\n",
       "      <td>True</td>\n",
       "      <td>0</td>\n",
       "      <td>...</td>\n",
       "      <td>True</td>\n",
       "      <td>False</td>\n",
       "      <td>False</td>\n",
       "      <td>76561199090098988</td>\n",
       "      <td>5</td>\n",
       "      <td>1</td>\n",
       "      <td>1061.0</td>\n",
       "      <td>1061.0</td>\n",
       "      <td>1060.0</td>\n",
       "      <td>1.611384e+09</td>\n",
       "    </tr>\n",
       "    <tr>\n",
       "      <th>3</th>\n",
       "      <td>3</td>\n",
       "      <td>292030</td>\n",
       "      <td>The Witcher 3: Wild Hunt</td>\n",
       "      <td>85184605</td>\n",
       "      <td>english</td>\n",
       "      <td>One of the best RPG's of all time, worthy of a...</td>\n",
       "      <td>1611379970</td>\n",
       "      <td>1611379970</td>\n",
       "      <td>True</td>\n",
       "      <td>0</td>\n",
       "      <td>...</td>\n",
       "      <td>True</td>\n",
       "      <td>False</td>\n",
       "      <td>False</td>\n",
       "      <td>76561199054755373</td>\n",
       "      <td>5</td>\n",
       "      <td>3</td>\n",
       "      <td>5587.0</td>\n",
       "      <td>3200.0</td>\n",
       "      <td>5524.0</td>\n",
       "      <td>1.611384e+09</td>\n",
       "    </tr>\n",
       "    <tr>\n",
       "      <th>4</th>\n",
       "      <td>4</td>\n",
       "      <td>292030</td>\n",
       "      <td>The Witcher 3: Wild Hunt</td>\n",
       "      <td>85184287</td>\n",
       "      <td>schinese</td>\n",
       "      <td>大作</td>\n",
       "      <td>1611379427</td>\n",
       "      <td>1611379427</td>\n",
       "      <td>True</td>\n",
       "      <td>0</td>\n",
       "      <td>...</td>\n",
       "      <td>True</td>\n",
       "      <td>False</td>\n",
       "      <td>False</td>\n",
       "      <td>76561199028326951</td>\n",
       "      <td>7</td>\n",
       "      <td>4</td>\n",
       "      <td>217.0</td>\n",
       "      <td>42.0</td>\n",
       "      <td>217.0</td>\n",
       "      <td>1.610788e+09</td>\n",
       "    </tr>\n",
       "  </tbody>\n",
       "</table>\n",
       "<p>5 rows × 23 columns</p>\n",
       "</div>"
      ],
      "text/plain": [
       "   Unnamed: 0  app_id                  app_name  review_id  language  \\\n",
       "0           0  292030  The Witcher 3: Wild Hunt   85185598  schinese   \n",
       "1           1  292030  The Witcher 3: Wild Hunt   85185250  schinese   \n",
       "2           2  292030  The Witcher 3: Wild Hunt   85185111  schinese   \n",
       "3           3  292030  The Witcher 3: Wild Hunt   85184605   english   \n",
       "4           4  292030  The Witcher 3: Wild Hunt   85184287  schinese   \n",
       "\n",
       "                                              review  timestamp_created  \\\n",
       "0                            不玩此生遗憾，RPG游戏里的天花板，太吸引人了         1611381629   \n",
       "1                                 拔DIAO无情打桩机--杰洛特!!!         1611381030   \n",
       "2                                              巫师3NB         1611380800   \n",
       "3  One of the best RPG's of all time, worthy of a...         1611379970   \n",
       "4                                                 大作         1611379427   \n",
       "\n",
       "   timestamp_updated  recommended  votes_helpful  ...  steam_purchase  \\\n",
       "0         1611381629         True              0  ...            True   \n",
       "1         1611381030         True              0  ...            True   \n",
       "2         1611380800         True              0  ...            True   \n",
       "3         1611379970         True              0  ...            True   \n",
       "4         1611379427         True              0  ...            True   \n",
       "\n",
       "   received_for_free  written_during_early_access     author.steamid  \\\n",
       "0              False                        False  76561199095369542   \n",
       "1              False                        False  76561198949504115   \n",
       "2              False                        False  76561199090098988   \n",
       "3              False                        False  76561199054755373   \n",
       "4              False                        False  76561199028326951   \n",
       "\n",
       "   author.num_games_owned  author.num_reviews  author.playtime_forever  \\\n",
       "0                       6                   2                   1909.0   \n",
       "1                      30                  10                   2764.0   \n",
       "2                       5                   1                   1061.0   \n",
       "3                       5                   3                   5587.0   \n",
       "4                       7                   4                    217.0   \n",
       "\n",
       "   author.playtime_last_two_weeks  author.playtime_at_review  \\\n",
       "0                          1448.0                     1909.0   \n",
       "1                          2743.0                     2674.0   \n",
       "2                          1061.0                     1060.0   \n",
       "3                          3200.0                     5524.0   \n",
       "4                            42.0                      217.0   \n",
       "\n",
       "   author.last_played  \n",
       "0        1.611343e+09  \n",
       "1        1.611386e+09  \n",
       "2        1.611384e+09  \n",
       "3        1.611384e+09  \n",
       "4        1.610788e+09  \n",
       "\n",
       "[5 rows x 23 columns]"
      ]
     },
     "execution_count": 10,
     "metadata": {},
     "output_type": "execute_result"
    }
   ],
   "source": [
    "df.head()"
   ]
  },
  {
   "cell_type": "code",
   "execution_count": 7,
   "id": "f212505e",
   "metadata": {},
   "outputs": [
    {
     "name": "stdout",
     "output_type": "stream",
     "text": [
      "<class 'pandas.core.frame.DataFrame'>\n",
      "RangeIndex: 21747371 entries, 0 to 21747370\n",
      "Data columns (total 23 columns):\n",
      " #   Column                          Dtype  \n",
      "---  ------                          -----  \n",
      " 0   Unnamed: 0                      int64  \n",
      " 1   app_id                          int64  \n",
      " 2   app_name                        object \n",
      " 3   review_id                       int64  \n",
      " 4   language                        object \n",
      " 5   review                          object \n",
      " 6   timestamp_created               int64  \n",
      " 7   timestamp_updated               int64  \n",
      " 8   recommended                     bool   \n",
      " 9   votes_helpful                   int64  \n",
      " 10  votes_funny                     int64  \n",
      " 11  weighted_vote_score             float64\n",
      " 12  comment_count                   int64  \n",
      " 13  steam_purchase                  bool   \n",
      " 14  received_for_free               bool   \n",
      " 15  written_during_early_access     bool   \n",
      " 16  author.steamid                  int64  \n",
      " 17  author.num_games_owned          int64  \n",
      " 18  author.num_reviews              int64  \n",
      " 19  author.playtime_forever         float64\n",
      " 20  author.playtime_last_two_weeks  float64\n",
      " 21  author.playtime_at_review       float64\n",
      " 22  author.last_played              float64\n",
      "dtypes: bool(4), float64(5), int64(11), object(3)\n",
      "memory usage: 3.2+ GB\n"
     ]
    }
   ],
   "source": [
    "df.info()"
   ]
  },
  {
   "cell_type": "code",
   "execution_count": 4,
   "id": "81af3270",
   "metadata": {},
   "outputs": [
    {
     "data": {
      "text/plain": [
       "english       9635437\n",
       "schinese      3764967\n",
       "russian       2348900\n",
       "brazilian      837524\n",
       "spanish        813320\n",
       "german         752596\n",
       "turkish        635868\n",
       "koreana        613632\n",
       "french         541751\n",
       "polish         495529\n",
       "tchinese       218203\n",
       "czech          133980\n",
       "italian        133307\n",
       "thai           127503\n",
       "japanese        81754\n",
       "portuguese      81386\n",
       "swedish         80226\n",
       "dutch           77555\n",
       "hungarian       71001\n",
       "latam           70103\n",
       "danish          55915\n",
       "finnish         54712\n",
       "norwegian       36797\n",
       "romanian        32730\n",
       "ukrainian       21169\n",
       "greek           14472\n",
       "bulgarian       10454\n",
       "vietnamese       6580\n",
       "Name: language, dtype: int64"
      ]
     },
     "execution_count": 4,
     "metadata": {},
     "output_type": "execute_result"
    }
   ],
   "source": [
    "df['language'].value_counts() # подтвердим, что большинство отзывов на английском языке"
   ]
  },
  {
   "cell_type": "markdown",
   "id": "c5602d13",
   "metadata": {},
   "source": [
    "**Настройка данных**"
   ]
  },
  {
   "cell_type": "code",
   "execution_count": 18,
   "id": "e58ef4e2",
   "metadata": {},
   "outputs": [],
   "source": [
    "eng_reviews = df[df[\"language\"] == 'english']"
   ]
  },
  {
   "cell_type": "code",
   "execution_count": 12,
   "id": "a6661b7c",
   "metadata": {},
   "outputs": [
    {
     "name": "stdout",
     "output_type": "stream",
     "text": [
      "<class 'pandas.core.frame.DataFrame'>\n",
      "Int64Index: 9635437 entries, 3 to 21747369\n",
      "Data columns (total 23 columns):\n",
      " #   Column                          Dtype  \n",
      "---  ------                          -----  \n",
      " 0   Unnamed: 0                      int64  \n",
      " 1   app_id                          int64  \n",
      " 2   app_name                        object \n",
      " 3   review_id                       int64  \n",
      " 4   language                        object \n",
      " 5   review                          object \n",
      " 6   timestamp_created               int64  \n",
      " 7   timestamp_updated               int64  \n",
      " 8   recommended                     bool   \n",
      " 9   votes_helpful                   int64  \n",
      " 10  votes_funny                     int64  \n",
      " 11  weighted_vote_score             float64\n",
      " 12  comment_count                   int64  \n",
      " 13  steam_purchase                  bool   \n",
      " 14  received_for_free               bool   \n",
      " 15  written_during_early_access     bool   \n",
      " 16  author.steamid                  int64  \n",
      " 17  author.num_games_owned          int64  \n",
      " 18  author.num_reviews              int64  \n",
      " 19  author.playtime_forever         float64\n",
      " 20  author.playtime_last_two_weeks  float64\n",
      " 21  author.playtime_at_review       float64\n",
      " 22  author.last_played              float64\n",
      "dtypes: bool(4), float64(5), int64(11), object(3)\n",
      "memory usage: 5.1 GB\n"
     ]
    }
   ],
   "source": [
    "eng_reviews.info(memory_usage = 'deep') # посмотрим, подходит ли датафрейм по размерам под ТЗ"
   ]
  },
  {
   "cell_type": "code",
   "execution_count": 1,
   "id": "e02e11bc",
   "metadata": {},
   "outputs": [],
   "source": [
    "# хочу выкинуть ещё часть \"ненужной\" информации и посмотреть подходит ли датафрейм под ТЗ"
   ]
  },
  {
   "cell_type": "code",
   "execution_count": 19,
   "id": "3f1e0ead",
   "metadata": {},
   "outputs": [],
   "source": [
    "eng_reviews = eng_reviews.drop([\"Unnamed: 0\", \"app_id\", \"review_id\", \"language\", \"timestamp_created\", \"timestamp_updated\",\n",
    "                                \"comment_count\", \"steam_purchase\", \"received_for_free\", \"written_during_early_access\",\n",
    "                               \"author.steamid\", \"author.num_games_owned\", \"author.num_reviews\", \"author.playtime_forever\",\n",
    "                               \"author.playtime_last_two_weeks\", \"author.playtime_at_review\", \"author.last_played\"], axis = 1)"
   ]
  },
  {
   "cell_type": "code",
   "execution_count": 6,
   "id": "3e8ca694",
   "metadata": {},
   "outputs": [
    {
     "name": "stdout",
     "output_type": "stream",
     "text": [
      "<class 'pandas.core.frame.DataFrame'>\n",
      "Int64Index: 9635437 entries, 3 to 21747369\n",
      "Data columns (total 6 columns):\n",
      " #   Column               Dtype  \n",
      "---  ------               -----  \n",
      " 0   app_name             object \n",
      " 1   review               object \n",
      " 2   recommended          bool   \n",
      " 3   votes_helpful        int64  \n",
      " 4   votes_funny          int64  \n",
      " 5   weighted_vote_score  float64\n",
      "dtypes: bool(1), float64(1), int64(2), object(2)\n",
      "memory usage: 3.6 GB\n"
     ]
    }
   ],
   "source": [
    "eng_reviews.info(memory_usage = 'deep')"
   ]
  },
  {
   "cell_type": "code",
   "execution_count": null,
   "id": "1780cf5e",
   "metadata": {},
   "outputs": [],
   "source": [
    "# логично что всё ещё подходит потому что текст отзывов больше всего места будет занимать.\n",
    "# (можно ещё название игр в принципе выкинуть)"
   ]
  },
  {
   "cell_type": "code",
   "execution_count": 20,
   "id": "42cd4082",
   "metadata": {},
   "outputs": [
    {
     "data": {
      "text/html": [
       "<div>\n",
       "<style scoped>\n",
       "    .dataframe tbody tr th:only-of-type {\n",
       "        vertical-align: middle;\n",
       "    }\n",
       "\n",
       "    .dataframe tbody tr th {\n",
       "        vertical-align: top;\n",
       "    }\n",
       "\n",
       "    .dataframe thead th {\n",
       "        text-align: right;\n",
       "    }\n",
       "</style>\n",
       "<table border=\"1\" class=\"dataframe\">\n",
       "  <thead>\n",
       "    <tr style=\"text-align: right;\">\n",
       "      <th></th>\n",
       "      <th>app_name</th>\n",
       "      <th>review</th>\n",
       "      <th>recommended</th>\n",
       "      <th>votes_helpful</th>\n",
       "      <th>votes_funny</th>\n",
       "      <th>weighted_vote_score</th>\n",
       "    </tr>\n",
       "  </thead>\n",
       "  <tbody>\n",
       "    <tr>\n",
       "      <th>3</th>\n",
       "      <td>The Witcher 3: Wild Hunt</td>\n",
       "      <td>One of the best RPG's of all time, worthy of a...</td>\n",
       "      <td>True</td>\n",
       "      <td>0</td>\n",
       "      <td>0</td>\n",
       "      <td>0.0</td>\n",
       "    </tr>\n",
       "    <tr>\n",
       "      <th>5</th>\n",
       "      <td>The Witcher 3: Wild Hunt</td>\n",
       "      <td>good story, good graphics. lots to do.</td>\n",
       "      <td>True</td>\n",
       "      <td>0</td>\n",
       "      <td>0</td>\n",
       "      <td>0.0</td>\n",
       "    </tr>\n",
       "    <tr>\n",
       "      <th>6</th>\n",
       "      <td>The Witcher 3: Wild Hunt</td>\n",
       "      <td>dis gud,</td>\n",
       "      <td>True</td>\n",
       "      <td>0</td>\n",
       "      <td>0</td>\n",
       "      <td>0.0</td>\n",
       "    </tr>\n",
       "    <tr>\n",
       "      <th>18</th>\n",
       "      <td>The Witcher 3: Wild Hunt</td>\n",
       "      <td>favorite game of all time cant wait for the Ne...</td>\n",
       "      <td>True</td>\n",
       "      <td>0</td>\n",
       "      <td>0</td>\n",
       "      <td>0.0</td>\n",
       "    </tr>\n",
       "    <tr>\n",
       "      <th>20</th>\n",
       "      <td>The Witcher 3: Wild Hunt</td>\n",
       "      <td>Why wouldn't you get this</td>\n",
       "      <td>True</td>\n",
       "      <td>0</td>\n",
       "      <td>0</td>\n",
       "      <td>0.0</td>\n",
       "    </tr>\n",
       "  </tbody>\n",
       "</table>\n",
       "</div>"
      ],
      "text/plain": [
       "                    app_name  \\\n",
       "3   The Witcher 3: Wild Hunt   \n",
       "5   The Witcher 3: Wild Hunt   \n",
       "6   The Witcher 3: Wild Hunt   \n",
       "18  The Witcher 3: Wild Hunt   \n",
       "20  The Witcher 3: Wild Hunt   \n",
       "\n",
       "                                               review  recommended  \\\n",
       "3   One of the best RPG's of all time, worthy of a...         True   \n",
       "5              good story, good graphics. lots to do.         True   \n",
       "6                                            dis gud,         True   \n",
       "18  favorite game of all time cant wait for the Ne...         True   \n",
       "20                          Why wouldn't you get this         True   \n",
       "\n",
       "    votes_helpful  votes_funny  weighted_vote_score  \n",
       "3               0            0                  0.0  \n",
       "5               0            0                  0.0  \n",
       "6               0            0                  0.0  \n",
       "18              0            0                  0.0  \n",
       "20              0            0                  0.0  "
      ]
     },
     "execution_count": 20,
     "metadata": {},
     "output_type": "execute_result"
    }
   ],
   "source": [
    "eng_reviews.head()"
   ]
  },
  {
   "cell_type": "code",
   "execution_count": 17,
   "id": "4997aa54",
   "metadata": {},
   "outputs": [
    {
     "name": "stderr",
     "output_type": "stream",
     "text": [
      "C:\\Users\\ivevv\\anaconda3\\lib\\site-packages\\seaborn\\_decorators.py:36: FutureWarning: Pass the following variable as a keyword arg: x. From version 0.12, the only valid positional argument will be `data`, and passing other arguments without an explicit keyword will result in an error or misinterpretation.\n",
      "  warnings.warn(\n"
     ]
    },
    {
     "data": {
      "text/plain": [
       "<AxesSubplot:xlabel='recommended', ylabel='count'>"
      ]
     },
     "execution_count": 17,
     "metadata": {},
     "output_type": "execute_result"
    },
    {
     "data": {
      "image/png": "[encoded data removed]",
      "text/plain": [
       "<Figure size 432x288 with 1 Axes>"
      ]
     },
     "metadata": {
      "needs_background": "light"
     },
     "output_type": "display_data"
    }
   ],
   "source": [
    "# ~ визуализация ~ посмотрим соотношение положительных отзывов к отрицательным\n",
    "\n",
    "import seaborn as sns\n",
    "\n",
    "sns.countplot((eng_reviews)['recommended'])"
   ]
  },
  {
   "cell_type": "code",
   "execution_count": 21,
   "id": "9546e903",
   "metadata": {},
   "outputs": [],
   "source": [
    "eng_reviews.to_csv(r'./eng_reviews_raw.csv', index = False)"
   ]
  },
  {
   "cell_type": "code",
   "execution_count": 28,
   "id": "29367d79",
   "metadata": {},
   "outputs": [],
   "source": [
    "eng_reviews = pd.read_csv('eng_reviews_raw.csv') # шорткат"
   ]
  },
  {
   "cell_type": "code",
   "execution_count": null,
   "id": "35b4fc16",
   "metadata": {},
   "outputs": [],
   "source": [
    "# появилась мысль отсортировать дф по votes_helpful и обучить модель по самым полезным отзывам вручную\n",
    "# вместо автоматического разделения train_test_split но не знаю насколько она хорошая\n",
    "# также можно использовать параметр weighted_vote_score (Score based on number of helpful votes)\n",
    "# ещё можно при обучении учесть что положительных отзывов во много раз больше отрицательных и как-то это сбалансировать вручную\n",
    "# можно обучить четыре модели разными способами и сравнить для иллюзии бурной деятельности\n",
    "\n",
    "# пока просто почищу текст"
   ]
  },
  {
   "cell_type": "code",
   "execution_count": 11,
   "id": "5f140bd5",
   "metadata": {},
   "outputs": [],
   "source": [
    "import re\n",
    "\n",
    "def cleanup(text):\n",
    "    text = str(text).lower()\n",
    "    text = re.sub(r\"n't\", \" not \", text)\n",
    "    text = re.sub(r\"\\'s\", \" \", text)\n",
    "    text = re.sub(r\"\\'ve\", \" have \", text)\n",
    "    text = re.sub(r\"\\'re\", \" are \", text)\n",
    "    text = re.sub(r\"\\'d\", \" would \", text)\n",
    "    text = re.sub(r\"\\'ll\", \" will \", text)\n",
    "    text = re.sub('\\W+',' ', text)\n",
    "    return text\n",
    "\n",
    "# не все юзеры расставляют апострофы при письме (cant вместо can't) но это будет сложно учесть\n",
    "# думаю нет смысла тратить на это вычислительные ресурсы"
   ]
  },
  {
   "cell_type": "code",
   "execution_count": 12,
   "id": "5a366d00",
   "metadata": {},
   "outputs": [
    {
     "data": {
      "text/html": [
       "<div>\n",
       "<style scoped>\n",
       "    .dataframe tbody tr th:only-of-type {\n",
       "        vertical-align: middle;\n",
       "    }\n",
       "\n",
       "    .dataframe tbody tr th {\n",
       "        vertical-align: top;\n",
       "    }\n",
       "\n",
       "    .dataframe thead th {\n",
       "        text-align: right;\n",
       "    }\n",
       "</style>\n",
       "<table border=\"1\" class=\"dataframe\">\n",
       "  <thead>\n",
       "    <tr style=\"text-align: right;\">\n",
       "      <th></th>\n",
       "      <th>app_name</th>\n",
       "      <th>review</th>\n",
       "      <th>recommended</th>\n",
       "      <th>votes_helpful</th>\n",
       "      <th>votes_funny</th>\n",
       "      <th>weighted_vote_score</th>\n",
       "    </tr>\n",
       "  </thead>\n",
       "  <tbody>\n",
       "    <tr>\n",
       "      <th>0</th>\n",
       "      <td>The Witcher 3: Wild Hunt</td>\n",
       "      <td>one of the best rpg of all time worthy of any ...</td>\n",
       "      <td>True</td>\n",
       "      <td>0</td>\n",
       "      <td>0</td>\n",
       "      <td>0.0</td>\n",
       "    </tr>\n",
       "    <tr>\n",
       "      <th>1</th>\n",
       "      <td>The Witcher 3: Wild Hunt</td>\n",
       "      <td>good story good graphics lots to do</td>\n",
       "      <td>True</td>\n",
       "      <td>0</td>\n",
       "      <td>0</td>\n",
       "      <td>0.0</td>\n",
       "    </tr>\n",
       "    <tr>\n",
       "      <th>2</th>\n",
       "      <td>The Witcher 3: Wild Hunt</td>\n",
       "      <td>dis gud</td>\n",
       "      <td>True</td>\n",
       "      <td>0</td>\n",
       "      <td>0</td>\n",
       "      <td>0.0</td>\n",
       "    </tr>\n",
       "    <tr>\n",
       "      <th>3</th>\n",
       "      <td>The Witcher 3: Wild Hunt</td>\n",
       "      <td>favorite game of all time cant wait for the ne...</td>\n",
       "      <td>True</td>\n",
       "      <td>0</td>\n",
       "      <td>0</td>\n",
       "      <td>0.0</td>\n",
       "    </tr>\n",
       "    <tr>\n",
       "      <th>4</th>\n",
       "      <td>The Witcher 3: Wild Hunt</td>\n",
       "      <td>why would not you get this</td>\n",
       "      <td>True</td>\n",
       "      <td>0</td>\n",
       "      <td>0</td>\n",
       "      <td>0.0</td>\n",
       "    </tr>\n",
       "  </tbody>\n",
       "</table>\n",
       "</div>"
      ],
      "text/plain": [
       "                   app_name  \\\n",
       "0  The Witcher 3: Wild Hunt   \n",
       "1  The Witcher 3: Wild Hunt   \n",
       "2  The Witcher 3: Wild Hunt   \n",
       "3  The Witcher 3: Wild Hunt   \n",
       "4  The Witcher 3: Wild Hunt   \n",
       "\n",
       "                                              review  recommended  \\\n",
       "0  one of the best rpg of all time worthy of any ...         True   \n",
       "1               good story good graphics lots to do          True   \n",
       "2                                           dis gud          True   \n",
       "3  favorite game of all time cant wait for the ne...         True   \n",
       "4                         why would not you get this         True   \n",
       "\n",
       "   votes_helpful  votes_funny  weighted_vote_score  \n",
       "0              0            0                  0.0  \n",
       "1              0            0                  0.0  \n",
       "2              0            0                  0.0  \n",
       "3              0            0                  0.0  \n",
       "4              0            0                  0.0  "
      ]
     },
     "execution_count": 12,
     "metadata": {},
     "output_type": "execute_result"
    }
   ],
   "source": [
    "eng_reviews['review'] = eng_reviews['review'].apply(cleanup)\n",
    "eng_reviews.head()"
   ]
  },
  {
   "cell_type": "code",
   "execution_count": 32,
   "id": "d088281d",
   "metadata": {},
   "outputs": [],
   "source": [
    "eng_reviews.to_csv(r'./eng_reviews.csv', index = False) # пока выгружу как есть"
   ]
  },
  {
   "cell_type": "code",
   "execution_count": 3,
   "id": "7d8bfb9a",
   "metadata": {},
   "outputs": [],
   "source": [
    "eng_reviews = pd.read_csv('eng_reviews.csv')"
   ]
  },
  {
   "cell_type": "code",
   "execution_count": null,
   "id": "d52c8b6c",
   "metadata": {},
   "outputs": [],
   "source": [
    "# согласно\n",
    "# https://towardsdatascience.com/sentiment-classification-with-logistic-regression-analyzing-yelp-reviews-3981678c3b44#c3b8\n",
    "# стемминг и опущение служебных слов уменьшают словарь (=экономят вычислительные ресурсы)\n",
    "# но уменьшают точность модели\n",
    "# также в списке служебных слов NTLK есть not которое всё-таки несет смысловую нагрузку и которое не стоит выкидывать из отзыва\n",
    "# можно отзывы постеммить но оставить служебные слова\n",
    "# плюс TF-IDF Vectorizer и так учитывает наличие служебных слов"
   ]
  },
  {
   "cell_type": "code",
   "execution_count": null,
   "id": "14b07c18",
   "metadata": {},
   "outputs": [],
   "source": [
    "# пока построю модель с train_test_split и TF-IDF Vectorizer на имеющихся данных"
   ]
  },
  {
   "cell_type": "code",
   "execution_count": 4,
   "id": "42fbca98",
   "metadata": {},
   "outputs": [],
   "source": [
    "X = eng_reviews['review'] # что классифицируем"
   ]
  },
  {
   "cell_type": "code",
   "execution_count": 5,
   "id": "eb9608fd",
   "metadata": {},
   "outputs": [],
   "source": [
    "Y = eng_reviews['recommended'] # по чему классифицируем"
   ]
  },
  {
   "cell_type": "code",
   "execution_count": 13,
   "id": "2ebe8e7f",
   "metadata": {},
   "outputs": [],
   "source": [
    "from sklearn.model_selection import train_test_split\n",
    "\n",
    "X_train, X_test, y_train, y_test = train_test_split(X,Y, test_size=0.3)"
   ]
  },
  {
   "cell_type": "code",
   "execution_count": 14,
   "id": "727ea4a6",
   "metadata": {},
   "outputs": [
    {
     "data": {
      "text/plain": [
       "TfidfVectorizer()"
      ]
     },
     "execution_count": 14,
     "metadata": {},
     "output_type": "execute_result"
    }
   ],
   "source": [
    "from sklearn.feature_extraction.text import TfidfVectorizer\n",
    "\n",
    "vec = TfidfVectorizer()\n",
    "vec.fit(X_train) # во всех двух источниках на которые я смотрю векторайзер применяют только к X_train и я не понимаю почему\n",
    "                 # не ко всему X. есть идеи?"
   ]
  },
  {
   "cell_type": "code",
   "execution_count": 15,
   "id": "9260c96e",
   "metadata": {},
   "outputs": [],
   "source": [
    "x_train_vec = vec.transform(X_train)\n",
    "x_test_vec = vec.transform(X_test)"
   ]
  },
  {
   "cell_type": "code",
   "execution_count": 16,
   "id": "4d138c92",
   "metadata": {},
   "outputs": [
    {
     "data": {
      "text/plain": [
       "<1x939840 sparse matrix of type '<class 'numpy.float64'>'\n",
       "\twith 5 stored elements in Compressed Sparse Row format>"
      ]
     },
     "execution_count": 16,
     "metadata": {},
     "output_type": "execute_result"
    }
   ],
   "source": [
    "x_train_vec[1]"
   ]
  },
  {
   "cell_type": "code",
   "execution_count": 18,
   "id": "b2ceacb1",
   "metadata": {},
   "outputs": [
    {
     "data": {
      "text/plain": [
       "318721"
      ]
     },
     "execution_count": 18,
     "metadata": {},
     "output_type": "execute_result"
    }
   ],
   "source": [
    "vec.vocabulary_['good']"
   ]
  },
  {
   "cell_type": "code",
   "execution_count": 38,
   "id": "fb4584b1",
   "metadata": {},
   "outputs": [
    {
     "name": "stderr",
     "output_type": "stream",
     "text": [
      "C:\\Users\\ivevv\\anaconda3\\lib\\site-packages\\sklearn\\linear_model\\_logistic.py:763: ConvergenceWarning: lbfgs failed to converge (status=1):\n",
      "STOP: TOTAL NO. of ITERATIONS REACHED LIMIT.\n",
      "\n",
      "Increase the number of iterations (max_iter) or scale the data as shown in:\n",
      "    https://scikit-learn.org/stable/modules/preprocessing.html\n",
      "Please also refer to the documentation for alternative solver options:\n",
      "    https://scikit-learn.org/stable/modules/linear_model.html#logistic-regression\n",
      "  n_iter_i = _check_optimize_result(\n"
     ]
    },
    {
     "data": {
      "text/plain": [
       "LogisticRegression()"
      ]
     },
     "execution_count": 38,
     "metadata": {},
     "output_type": "execute_result"
    }
   ],
   "source": [
    "from sklearn.linear_model import LogisticRegression\n",
    "\n",
    "model0 = LogisticRegression()\n",
    "model0.fit(x_train_vec, y_train) # в лоб не получается"
   ]
  },
  {
   "cell_type": "code",
   "execution_count": 40,
   "id": "48aa7523",
   "metadata": {},
   "outputs": [
    {
     "data": {
      "text/plain": [
       "LogisticRegression(solver='sag')"
      ]
     },
     "execution_count": 40,
     "metadata": {},
     "output_type": "execute_result"
    }
   ],
   "source": [
    "model1 = LogisticRegression(solver = 'sag') # с оптимайзером для больших датасетов\n",
    "model1.fit(x_train_vec, y_train)"
   ]
  },
  {
   "cell_type": "code",
   "execution_count": 41,
   "id": "bad270fb",
   "metadata": {},
   "outputs": [
    {
     "data": {
      "text/plain": [
       "0.939880275316955"
      ]
     },
     "execution_count": 41,
     "metadata": {},
     "output_type": "execute_result"
    }
   ],
   "source": [
    "model1.score(x_test_vec, y_test) # mean accuracy on the given test data and labels."
   ]
  },
  {
   "cell_type": "code",
   "execution_count": 42,
   "id": "398ebf7b",
   "metadata": {},
   "outputs": [
    {
     "data": {
      "text/plain": [
       "0.9412836990839617"
      ]
     },
     "execution_count": 42,
     "metadata": {},
     "output_type": "execute_result"
    }
   ],
   "source": [
    "model1.score(x_train_vec, y_train)"
   ]
  },
  {
   "cell_type": "code",
   "execution_count": null,
   "id": "8c6f7354",
   "metadata": {},
   "outputs": [],
   "source": [
    "# а в первом докладе обещали F-score"
   ]
  },
  {
   "cell_type": "code",
   "execution_count": 44,
   "id": "e3656f33",
   "metadata": {},
   "outputs": [
    {
     "data": {
      "text/plain": [
       "0.966729257668674"
      ]
     },
     "execution_count": 44,
     "metadata": {},
     "output_type": "execute_result"
    }
   ],
   "source": [
    "# для этого нужно сделать предсказания\n",
    "from sklearn import metrics\n",
    "\n",
    "y_pred = model1.predict(x_test_vec)\n",
    "metrics.f1_score(y_test, y_pred)"
   ]
  },
  {
   "cell_type": "code",
   "execution_count": null,
   "id": "b468542c",
   "metadata": {},
   "outputs": [],
   "source": [
    "# скор получается довольно высокий\n",
    "# теперь можно позаниматься визуализацией полученных результатов и/или сравнить разные модели о которых я писала выше"
   ]
  }
 ],
 "metadata": {
  "kernelspec": {
   "display_name": "Python 3",
   "language": "python",
   "name": "python3"
  },
  "language_info": {
   "codemirror_mode": {
    "name": "ipython",
    "version": 3
   },
   "file_extension": ".py",
   "mimetype": "text/x-python",
   "name": "python",
   "nbconvert_exporter": "python",
   "pygments_lexer": "ipython3",
   "version": "3.8.8"
  }
 },
 "nbformat": 4,
 "nbformat_minor": 5
}
